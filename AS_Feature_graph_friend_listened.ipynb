{
 "cells": [
  {
   "cell_type": "markdown",
   "metadata": {},
   "source": [
    "На жаль, варіанту зберегти в сsv немає... Але у нас 7 мільйонів точок, для яких треба обрахувати графову відстань. Робити кожного разу окремий реквест з пайтона - мені здається, це занадто довго. Спробую щось придумати... "
   ]
  },
  {
   "cell_type": "code",
   "execution_count": 29,
   "metadata": {
    "collapsed": true
   },
   "outputs": [],
   "source": [
    "import pandas as pd\n",
    "path_to_train = './data/train.csv'\n",
    "\n",
    "train = pd.read_csv(path_to_train, encoding='utf-8', usecols=['media_id', 'user_id', 'ts_listen'], nrows=10000)"
   ]
  },
  {
   "cell_type": "markdown",
   "metadata": {},
   "source": [
    "Спробував на 1000 - зависло. Не зрозуміло, чи це зависло для одного, чи це зависло через те, що тисячу так довго рахувало. Попробую для одного."
   ]
  },
  {
   "cell_type": "markdown",
   "metadata": {},
   "source": [
    "LOAD CSV WITH HEADERS FROM \"file:///train.csv\" AS row\n",
    "\n",
    "MATCH p=(user:User {user_id:row.user_id})-[r:LISTENED*1..20]-(media:Media {media_id:row.media_id})\n",
    "\n",
    "RETURN LENGTH(p) as graph_distance_by_listened"
   ]
  },
  {
   "cell_type": "code",
   "execution_count": 30,
   "metadata": {
    "collapsed": true
   },
   "outputs": [],
   "source": [
    "train.index.name = 'index'\n",
    "train.to_csv('./data/graph/import/train.csv', index='index')"
   ]
  },
  {
   "cell_type": "markdown",
   "metadata": {},
   "source": [
    "Отже, виявилося, що я неправильно ставив задачу. Поки що не треба рахувати відстань. Найпростіше, що можна зробити - чи слухав цю пісню хтось, хто слухає те саме, що і ти. От і все."
   ]
  },
  {
   "cell_type": "markdown",
   "metadata": {
    "collapsed": true
   },
   "source": [
    "LOAD CSV WITH HEADERS FROM \"file:///train.csv\" AS row\n",
    "\n",
    "MATCH (user:User {user_id: row.user_id}), (media:Media { media_id: row.media_id })\n",
    "\n",
    "OPTIONAL MATCH p=(user)-[r1:LISTENED]->(m1:Media)<-[r2:LISTENED]-(u1:User)-[r3:LISTENED]->(media)\n",
    "\n",
    "WHERE m1.media_id <> row.media_id AND u1.user_id <> row.user_id AND r1.ts_listened < row.ts_listen AND r2.ts_listened < row.ts_listen AND r2.ts_listened < row.ts_listen\n",
    "\n",
    "RETURN DISTINCT row.index as index, LENGTH(p) as graph_friend_listened"
   ]
  },
  {
   "cell_type": "code",
   "execution_count": 24,
   "metadata": {
    "collapsed": false
   },
   "outputs": [],
   "source": [
    "path_to_feature = './data/features/graph-friend-listened.train.csv'\n",
    "feature = pd.read_csv(path_to_feature, encoding='utf-8', index_col='index')\n",
    "feature = feature.fillna(0)\n",
    "feature.ix[feature['graph_friend_listened'] == 3, 'graph_friend_listened'] = 1\n",
    "feature.to_csv(path_to_feature, index=False)"
   ]
  }
 ],
 "metadata": {
  "anaconda-cloud": {},
  "kernelspec": {
   "display_name": "Python [py35]",
   "language": "python",
   "name": "Python [py35]"
  },
  "language_info": {
   "codemirror_mode": {
    "name": "ipython",
    "version": 3
   },
   "file_extension": ".py",
   "mimetype": "text/x-python",
   "name": "python",
   "nbconvert_exporter": "python",
   "pygments_lexer": "ipython3",
   "version": "3.5.2"
  }
 },
 "nbformat": 4,
 "nbformat_minor": 0
}
