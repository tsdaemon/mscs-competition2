{
 "cells": [
  {
   "cell_type": "code",
   "execution_count": 6,
   "metadata": {
    "collapsed": false
   },
   "outputs": [
    {
     "name": "stdout",
     "output_type": "stream",
     "text": [
      "Fold 1\n"
     ]
    }
   ],
   "source": [
    "import validation as v\n",
    "import pandas as pd\n",
    "\n",
    "path_to_folds = './data/lightgbm'\n",
    "path_to_train = './data/train.csv'\n",
    "train = pd.read_csv(path_to_train, encoding='utf-8')\n",
    "\n",
    "v.generate_validation_folds(train, path_to_folds)"
   ]
  },
  {
   "cell_type": "code",
   "execution_count": 19,
   "metadata": {
    "collapsed": false
   },
   "outputs": [],
   "source": [
    "import model_lgbm as mlgbm\n",
    "params = {\n",
    "    'application':'binary',\n",
    "    'num_leaves': 8,\n",
    "    'max_depth': 4,\n",
    "    'bagging_fraction': 0.65,\n",
    "    'feature_fraction': 0.7,\n",
    "    'max_bin': 10,\n",
    "    'metric': 'auc',\n",
    "    'verbose': 1,\n",
    "    'lambda_l1': 1.0\n",
    "}\n",
    "params_2 = {\n",
    "    'application':'binary',\n",
    "    'num_leaves': 31,\n",
    "    'max_depth': 20,\n",
    "    'feature_fraction': 0.7,\n",
    "    'bagging_fraction': 0.7,\n",
    "    'max_bin': 200,\n",
    "    'metric': 'auc',\n",
    "    'verbose': 1\n",
    "}\n",
    "path_to_folds = './data/lightgbm'\n",
    "cols = ['context_type',\n",
    "       'release_date', 'platform_name', 'platform_family', 'media_duration',\n",
    "       'listen_type', 'user_gender', 'user_age']\n",
    "cols_2 = ['genre_id', 'media_id', 'album_id', 'context_type',\n",
    "       'release_date', 'platform_name', 'platform_family', 'media_duration',\n",
    "       'listen_type', 'user_gender', 'user_id', 'artist_id', 'user_age']"
   ]
  },
  {
   "cell_type": "code",
   "execution_count": null,
   "metadata": {
    "collapsed": false
   },
   "outputs": [
    {
     "name": "stdout",
     "output_type": "stream",
     "text": [
      "[1]\ttraining's auc: 0.673221\tvalid_1's auc: 0.558629\n",
      "[2]\ttraining's auc: 0.675922\tvalid_1's auc: 0.569986\n",
      "[3]\ttraining's auc: 0.67662\tvalid_1's auc: 0.564339\n",
      "[4]\ttraining's auc: 0.676306\tvalid_1's auc: 0.558122\n",
      "[5]\ttraining's auc: 0.675671\tvalid_1's auc: 0.554864\n",
      "[6]\ttraining's auc: 0.67857\tvalid_1's auc: 0.556956\n",
      "[7]\ttraining's auc: 0.679719\tvalid_1's auc: 0.559481\n",
      "[8]\ttraining's auc: 0.680381\tvalid_1's auc: 0.559511\n",
      "[9]\ttraining's auc: 0.680968\tvalid_1's auc: 0.561306\n",
      "[10]\ttraining's auc: 0.682049\tvalid_1's auc: 0.562704\n",
      "[11]\ttraining's auc: 0.682064\tvalid_1's auc: 0.561551\n",
      "[12]\ttraining's auc: 0.681885\tvalid_1's auc: 0.560072\n",
      "[13]\ttraining's auc: 0.682113\tvalid_1's auc: 0.561455\n",
      "[14]\ttraining's auc: 0.682561\tvalid_1's auc: 0.561696\n",
      "[15]\ttraining's auc: 0.683231\tvalid_1's auc: 0.562113\n",
      "[16]\ttraining's auc: 0.683711\tvalid_1's auc: 0.563771\n",
      "[17]\ttraining's auc: 0.683955\tvalid_1's auc: 0.564573\n",
      "[18]\ttraining's auc: 0.684616\tvalid_1's auc: 0.563985\n",
      "[19]\ttraining's auc: 0.68545\tvalid_1's auc: 0.563723\n",
      "[20]\ttraining's auc: 0.686045\tvalid_1's auc: 0.564434\n",
      "[21]\ttraining's auc: 0.686123\tvalid_1's auc: 0.564864\n",
      "[22]\ttraining's auc: 0.686551\tvalid_1's auc: 0.565875\n",
      "[23]\ttraining's auc: 0.687356\tvalid_1's auc: 0.566243\n",
      "[24]\ttraining's auc: 0.687987\tvalid_1's auc: 0.567793\n",
      "[25]\ttraining's auc: 0.688193\tvalid_1's auc: 0.568278\n",
      "[26]\ttraining's auc: 0.688687\tvalid_1's auc: 0.568687\n",
      "[27]\ttraining's auc: 0.689153\tvalid_1's auc: 0.569333\n",
      "[28]\ttraining's auc: 0.689338\tvalid_1's auc: 0.569294\n",
      "[29]\ttraining's auc: 0.689806\tvalid_1's auc: 0.569453\n",
      "[30]\ttraining's auc: 0.690046\tvalid_1's auc: 0.569539\n",
      "[31]\ttraining's auc: 0.690566\tvalid_1's auc: 0.570354\n",
      "[32]\ttraining's auc: 0.690825\tvalid_1's auc: 0.57059\n",
      "[33]\ttraining's auc: 0.691089\tvalid_1's auc: 0.570949\n",
      "[34]\ttraining's auc: 0.69168\tvalid_1's auc: 0.571674\n",
      "[35]\ttraining's auc: 0.692112\tvalid_1's auc: 0.572871\n",
      "[36]\ttraining's auc: 0.692541\tvalid_1's auc: 0.572966\n",
      "[37]\ttraining's auc: 0.692698\tvalid_1's auc: 0.573266\n",
      "[38]\ttraining's auc: 0.69305\tvalid_1's auc: 0.57327\n"
     ]
    }
   ],
   "source": [
    "evs = mlgbm.crossvalidate_model(path_to_folds, cols_2, params_2, validate_on_both=True)"
   ]
  },
  {
   "cell_type": "code",
   "execution_count": 21,
   "metadata": {
    "collapsed": false
   },
   "outputs": [
    {
     "name": "stdout",
     "output_type": "stream",
     "text": [
      "[1]\ttraining's auc: 0.6555\tvalid_1's auc: 0.569079\n",
      "[2]\ttraining's auc: 0.66053\tvalid_1's auc: 0.53363\n",
      "[3]\ttraining's auc: 0.661948\tvalid_1's auc: 0.550546\n",
      "[4]\ttraining's auc: 0.664736\tvalid_1's auc: 0.537916\n",
      "[5]\ttraining's auc: 0.665522\tvalid_1's auc: 0.530863\n",
      "[6]\ttraining's auc: 0.666758\tvalid_1's auc: 0.53011\n",
      "[7]\ttraining's auc: 0.666704\tvalid_1's auc: 0.529375\n",
      "[8]\ttraining's auc: 0.666525\tvalid_1's auc: 0.529774\n",
      "[9]\ttraining's auc: 0.667151\tvalid_1's auc: 0.533615\n",
      "[10]\ttraining's auc: 0.667593\tvalid_1's auc: 0.53755\n",
      "[11]\ttraining's auc: 0.667889\tvalid_1's auc: 0.535366\n",
      "[12]\ttraining's auc: 0.668283\tvalid_1's auc: 0.535778\n",
      "[13]\ttraining's auc: 0.668583\tvalid_1's auc: 0.535036\n",
      "[14]\ttraining's auc: 0.669026\tvalid_1's auc: 0.536291\n",
      "[15]\ttraining's auc: 0.669065\tvalid_1's auc: 0.539061\n",
      "[16]\ttraining's auc: 0.669035\tvalid_1's auc: 0.541529\n",
      "[17]\ttraining's auc: 0.669168\tvalid_1's auc: 0.542445\n",
      "[18]\ttraining's auc: 0.669247\tvalid_1's auc: 0.544256\n",
      "[19]\ttraining's auc: 0.669326\tvalid_1's auc: 0.541248\n",
      "[20]\ttraining's auc: 0.669219\tvalid_1's auc: 0.544534\n",
      "[21]\ttraining's auc: 0.669407\tvalid_1's auc: 0.544508\n",
      "[22]\ttraining's auc: 0.669681\tvalid_1's auc: 0.545205\n",
      "[23]\ttraining's auc: 0.67007\tvalid_1's auc: 0.544358\n",
      "[24]\ttraining's auc: 0.670342\tvalid_1's auc: 0.543659\n",
      "[25]\ttraining's auc: 0.670537\tvalid_1's auc: 0.544679\n",
      "[26]\ttraining's auc: 0.670599\tvalid_1's auc: 0.544719\n",
      "[27]\ttraining's auc: 0.670656\tvalid_1's auc: 0.543598\n",
      "[28]\ttraining's auc: 0.670857\tvalid_1's auc: 0.543644\n",
      "[29]\ttraining's auc: 0.67102\tvalid_1's auc: 0.545177\n",
      "[30]\ttraining's auc: 0.671279\tvalid_1's auc: 0.544874\n",
      "[31]\ttraining's auc: 0.671616\tvalid_1's auc: 0.545713\n",
      "[32]\ttraining's auc: 0.671674\tvalid_1's auc: 0.547009\n",
      "[33]\ttraining's auc: 0.671913\tvalid_1's auc: 0.546991\n",
      "[34]\ttraining's auc: 0.672062\tvalid_1's auc: 0.548165\n",
      "[35]\ttraining's auc: 0.672244\tvalid_1's auc: 0.548609\n",
      "[36]\ttraining's auc: 0.672316\tvalid_1's auc: 0.549029\n",
      "[37]\ttraining's auc: 0.672494\tvalid_1's auc: 0.54953\n",
      "[38]\ttraining's auc: 0.672637\tvalid_1's auc: 0.549684\n",
      "[39]\ttraining's auc: 0.672704\tvalid_1's auc: 0.549953\n",
      "[40]\ttraining's auc: 0.672834\tvalid_1's auc: 0.550381\n",
      "[41]\ttraining's auc: 0.67294\tvalid_1's auc: 0.550499\n",
      "[42]\ttraining's auc: 0.673063\tvalid_1's auc: 0.550595\n",
      "[43]\ttraining's auc: 0.673193\tvalid_1's auc: 0.550875\n",
      "[44]\ttraining's auc: 0.673341\tvalid_1's auc: 0.551194\n",
      "[45]\ttraining's auc: 0.673672\tvalid_1's auc: 0.55053\n",
      "[46]\ttraining's auc: 0.673714\tvalid_1's auc: 0.550723\n",
      "[47]\ttraining's auc: 0.673887\tvalid_1's auc: 0.550848\n",
      "[48]\ttraining's auc: 0.674086\tvalid_1's auc: 0.550124\n",
      "[49]\ttraining's auc: 0.674233\tvalid_1's auc: 0.549409\n",
      "[50]\ttraining's auc: 0.674304\tvalid_1's auc: 0.549714\n",
      "[51]\ttraining's auc: 0.674407\tvalid_1's auc: 0.549818\n",
      "[52]\ttraining's auc: 0.674442\tvalid_1's auc: 0.549797\n",
      "[53]\ttraining's auc: 0.674465\tvalid_1's auc: 0.550067\n",
      "[54]\ttraining's auc: 0.674508\tvalid_1's auc: 0.550245\n",
      "[55]\ttraining's auc: 0.674686\tvalid_1's auc: 0.550375\n",
      "[56]\ttraining's auc: 0.674789\tvalid_1's auc: 0.550573\n",
      "[57]\ttraining's auc: 0.67493\tvalid_1's auc: 0.550762\n",
      "[58]\ttraining's auc: 0.675053\tvalid_1's auc: 0.550351\n",
      "[59]\ttraining's auc: 0.675138\tvalid_1's auc: 0.550487\n",
      "[60]\ttraining's auc: 0.675284\tvalid_1's auc: 0.550769\n",
      "[61]\ttraining's auc: 0.67534\tvalid_1's auc: 0.550946\n",
      "[62]\ttraining's auc: 0.675396\tvalid_1's auc: 0.551104\n",
      "[63]\ttraining's auc: 0.67547\tvalid_1's auc: 0.551405\n",
      "[64]\ttraining's auc: 0.675516\tvalid_1's auc: 0.551676\n",
      "[65]\ttraining's auc: 0.675579\tvalid_1's auc: 0.551805\n",
      "[66]\ttraining's auc: 0.675609\tvalid_1's auc: 0.551856\n",
      "[67]\ttraining's auc: 0.67568\tvalid_1's auc: 0.552049\n",
      "[68]\ttraining's auc: 0.675862\tvalid_1's auc: 0.551828\n",
      "[69]\ttraining's auc: 0.675902\tvalid_1's auc: 0.551899\n",
      "[70]\ttraining's auc: 0.675987\tvalid_1's auc: 0.551841\n",
      "[71]\ttraining's auc: 0.676069\tvalid_1's auc: 0.552031\n",
      "[72]\ttraining's auc: 0.676118\tvalid_1's auc: 0.552386\n",
      "[73]\ttraining's auc: 0.67615\tvalid_1's auc: 0.552395\n",
      "[74]\ttraining's auc: 0.67617\tvalid_1's auc: 0.552416\n",
      "[75]\ttraining's auc: 0.676331\tvalid_1's auc: 0.553083\n",
      "[76]\ttraining's auc: 0.676374\tvalid_1's auc: 0.553314\n",
      "[77]\ttraining's auc: 0.676443\tvalid_1's auc: 0.553937\n",
      "[78]\ttraining's auc: 0.676496\tvalid_1's auc: 0.553956\n",
      "[79]\ttraining's auc: 0.676536\tvalid_1's auc: 0.554256\n",
      "[80]\ttraining's auc: 0.676673\tvalid_1's auc: 0.554609\n"
     ]
    },
    {
     "ename": "KeyboardInterrupt",
     "evalue": "",
     "output_type": "error",
     "traceback": [
      "\u001b[0;31m---------------------------------------------------------------------------\u001b[0m",
      "\u001b[0;31mKeyboardInterrupt\u001b[0m                         Traceback (most recent call last)",
      "\u001b[0;32m<ipython-input-21-64e67f0610e9>\u001b[0m in \u001b[0;36m<module>\u001b[0;34m()\u001b[0m\n\u001b[0;32m----> 1\u001b[0;31m \u001b[0mevs\u001b[0m \u001b[0;34m=\u001b[0m \u001b[0mmlgbm\u001b[0m\u001b[0;34m.\u001b[0m\u001b[0mcrossvalidate_model\u001b[0m\u001b[0;34m(\u001b[0m\u001b[0mpath_to_folds\u001b[0m\u001b[0;34m,\u001b[0m \u001b[0mcols\u001b[0m\u001b[0;34m,\u001b[0m \u001b[0mparams\u001b[0m\u001b[0;34m,\u001b[0m \u001b[0mvalidate_on_both\u001b[0m\u001b[0;34m=\u001b[0m\u001b[0;32mTrue\u001b[0m\u001b[0;34m)\u001b[0m\u001b[0;34m\u001b[0m\u001b[0m\n\u001b[0m",
      "\u001b[0;32m/media/windows_d/DRIVE/MS CS UCU/DataScienceGame/model_lgbm.py\u001b[0m in \u001b[0;36mcrossvalidate_model\u001b[0;34m(path_to_folds, cols, params, verbose, iterations, validate_on_both)\u001b[0m\n\u001b[1;32m     16\u001b[0m         \u001b[0mvalidation\u001b[0m \u001b[0;34m=\u001b[0m \u001b[0mlgb_test\u001b[0m\u001b[0;34m\u001b[0m\u001b[0m\n\u001b[1;32m     17\u001b[0m         \u001b[0;32mif\u001b[0m\u001b[0;34m(\u001b[0m\u001b[0mvalidate_on_both\u001b[0m\u001b[0;34m)\u001b[0m\u001b[0;34m:\u001b[0m\u001b[0;34m\u001b[0m\u001b[0m\n\u001b[0;32m---> 18\u001b[0;31m             \u001b[0mvalidation\u001b[0m \u001b[0;34m=\u001b[0m \u001b[0;34m[\u001b[0m\u001b[0mlgb_train\u001b[0m\u001b[0;34m,\u001b[0m\u001b[0mlgb_test\u001b[0m\u001b[0;34m]\u001b[0m\u001b[0;34m\u001b[0m\u001b[0m\n\u001b[0m\u001b[1;32m     19\u001b[0m         \u001b[0mmodel_lgm\u001b[0m \u001b[0;34m=\u001b[0m \u001b[0mlgb\u001b[0m\u001b[0;34m.\u001b[0m\u001b[0mtrain\u001b[0m\u001b[0;34m(\u001b[0m\u001b[0mparams\u001b[0m\u001b[0;34m,\u001b[0m \u001b[0mlgb_train\u001b[0m\u001b[0;34m,\u001b[0m \u001b[0miterations\u001b[0m\u001b[0;34m,\u001b[0m \u001b[0mvalid_sets\u001b[0m\u001b[0;34m=\u001b[0m\u001b[0mvalidation\u001b[0m\u001b[0;34m,\u001b[0m \u001b[0mverbose_eval\u001b[0m\u001b[0;34m=\u001b[0m\u001b[0mverbose\u001b[0m\u001b[0;34m,\u001b[0m \u001b[0mevals_result\u001b[0m\u001b[0;34m=\u001b[0m\u001b[0mevals\u001b[0m\u001b[0;34m)\u001b[0m\u001b[0;34m\u001b[0m\u001b[0m\n\u001b[1;32m     20\u001b[0m         \u001b[0;32mif\u001b[0m\u001b[0;34m(\u001b[0m\u001b[0mverbose\u001b[0m\u001b[0;34m)\u001b[0m\u001b[0;34m:\u001b[0m\u001b[0;34m\u001b[0m\u001b[0m\n",
      "\u001b[0;32m/home/tsdaemon/anaconda3/lib/python3.6/site-packages/lightgbm-0.1-py3.6.egg/lightgbm/engine.py\u001b[0m in \u001b[0;36mtrain\u001b[0;34m(params, train_set, num_boost_round, valid_sets, valid_names, fobj, feval, init_model, feature_name, categorical_feature, early_stopping_rounds, evals_result, verbose_eval, learning_rates, callbacks)\u001b[0m\n\u001b[1;32m    184\u001b[0m         \u001b[0;32mif\u001b[0m \u001b[0mvalid_sets\u001b[0m \u001b[0;32mis\u001b[0m \u001b[0;32mnot\u001b[0m \u001b[0;32mNone\u001b[0m\u001b[0;34m:\u001b[0m\u001b[0;34m\u001b[0m\u001b[0m\n\u001b[1;32m    185\u001b[0m             \u001b[0;32mif\u001b[0m \u001b[0mis_valid_contain_train\u001b[0m\u001b[0;34m:\u001b[0m\u001b[0;34m\u001b[0m\u001b[0m\n\u001b[0;32m--> 186\u001b[0;31m                 \u001b[0mevaluation_result_list\u001b[0m\u001b[0;34m.\u001b[0m\u001b[0mextend\u001b[0m\u001b[0;34m(\u001b[0m\u001b[0mbooster\u001b[0m\u001b[0;34m.\u001b[0m\u001b[0meval_train\u001b[0m\u001b[0;34m(\u001b[0m\u001b[0mfeval\u001b[0m\u001b[0;34m)\u001b[0m\u001b[0;34m)\u001b[0m\u001b[0;34m\u001b[0m\u001b[0m\n\u001b[0m\u001b[1;32m    187\u001b[0m             \u001b[0mevaluation_result_list\u001b[0m\u001b[0;34m.\u001b[0m\u001b[0mextend\u001b[0m\u001b[0;34m(\u001b[0m\u001b[0mbooster\u001b[0m\u001b[0;34m.\u001b[0m\u001b[0meval_valid\u001b[0m\u001b[0;34m(\u001b[0m\u001b[0mfeval\u001b[0m\u001b[0;34m)\u001b[0m\u001b[0;34m)\u001b[0m\u001b[0;34m\u001b[0m\u001b[0m\n\u001b[1;32m    188\u001b[0m         \u001b[0;32mtry\u001b[0m\u001b[0;34m:\u001b[0m\u001b[0;34m\u001b[0m\u001b[0m\n",
      "\u001b[0;32m/home/tsdaemon/anaconda3/lib/python3.6/site-packages/lightgbm-0.1-py3.6.egg/lightgbm/basic.py\u001b[0m in \u001b[0;36meval_train\u001b[0;34m(self, feval)\u001b[0m\n\u001b[1;32m   1453\u001b[0m             \u001b[0mEvaluation\u001b[0m \u001b[0mresult\u001b[0m \u001b[0mlist\u001b[0m\u001b[0;34m.\u001b[0m\u001b[0;34m\u001b[0m\u001b[0m\n\u001b[1;32m   1454\u001b[0m         \"\"\"\n\u001b[0;32m-> 1455\u001b[0;31m         \u001b[0;32mreturn\u001b[0m \u001b[0mself\u001b[0m\u001b[0;34m.\u001b[0m\u001b[0m__inner_eval\u001b[0m\u001b[0;34m(\u001b[0m\u001b[0mself\u001b[0m\u001b[0;34m.\u001b[0m\u001b[0m__train_data_name\u001b[0m\u001b[0;34m,\u001b[0m \u001b[0;36m0\u001b[0m\u001b[0;34m,\u001b[0m \u001b[0mfeval\u001b[0m\u001b[0;34m)\u001b[0m\u001b[0;34m\u001b[0m\u001b[0m\n\u001b[0m\u001b[1;32m   1456\u001b[0m \u001b[0;34m\u001b[0m\u001b[0m\n\u001b[1;32m   1457\u001b[0m     \u001b[0;32mdef\u001b[0m \u001b[0meval_valid\u001b[0m\u001b[0;34m(\u001b[0m\u001b[0mself\u001b[0m\u001b[0;34m,\u001b[0m \u001b[0mfeval\u001b[0m\u001b[0;34m=\u001b[0m\u001b[0;32mNone\u001b[0m\u001b[0;34m)\u001b[0m\u001b[0;34m:\u001b[0m\u001b[0;34m\u001b[0m\u001b[0m\n",
      "\u001b[0;32m/home/tsdaemon/anaconda3/lib/python3.6/site-packages/lightgbm-0.1-py3.6.egg/lightgbm/basic.py\u001b[0m in \u001b[0;36m__inner_eval\u001b[0;34m(self, data_name, data_idx, feval)\u001b[0m\n\u001b[1;32m   1680\u001b[0m                 \u001b[0mctypes\u001b[0m\u001b[0;34m.\u001b[0m\u001b[0mc_int\u001b[0m\u001b[0;34m(\u001b[0m\u001b[0mdata_idx\u001b[0m\u001b[0;34m)\u001b[0m\u001b[0;34m,\u001b[0m\u001b[0;34m\u001b[0m\u001b[0m\n\u001b[1;32m   1681\u001b[0m                 \u001b[0mctypes\u001b[0m\u001b[0;34m.\u001b[0m\u001b[0mbyref\u001b[0m\u001b[0;34m(\u001b[0m\u001b[0mtmp_out_len\u001b[0m\u001b[0;34m)\u001b[0m\u001b[0;34m,\u001b[0m\u001b[0;34m\u001b[0m\u001b[0m\n\u001b[0;32m-> 1682\u001b[0;31m                 result.ctypes.data_as(ctypes.POINTER(ctypes.c_double))))\n\u001b[0m\u001b[1;32m   1683\u001b[0m             \u001b[0;32mif\u001b[0m \u001b[0mtmp_out_len\u001b[0m\u001b[0;34m.\u001b[0m\u001b[0mvalue\u001b[0m \u001b[0;34m!=\u001b[0m \u001b[0mself\u001b[0m\u001b[0;34m.\u001b[0m\u001b[0m__num_inner_eval\u001b[0m\u001b[0;34m:\u001b[0m\u001b[0;34m\u001b[0m\u001b[0m\n\u001b[1;32m   1684\u001b[0m                 \u001b[0;32mraise\u001b[0m \u001b[0mValueError\u001b[0m\u001b[0;34m(\u001b[0m\u001b[0;34m\"Wrong length of eval results\"\u001b[0m\u001b[0;34m)\u001b[0m\u001b[0;34m\u001b[0m\u001b[0m\n",
      "\u001b[0;31mKeyboardInterrupt\u001b[0m: "
     ]
    }
   ],
   "source": [
    "evs = mlgbm.crossvalidate_model(path_to_folds, cols, params, validate_on_both=True)"
   ]
  },
  {
   "cell_type": "code",
   "execution_count": null,
   "metadata": {
    "collapsed": false
   },
   "outputs": [],
   "source": [
    "import numpy as np\n",
    "\n",
    "np.mean(evs)"
   ]
  },
  {
   "cell_type": "code",
   "execution_count": 3,
   "metadata": {
    "collapsed": false
   },
   "outputs": [],
   "source": [
    "import pandas as pd\n",
    "import model_lgbm as mlgbm\n",
    "\n",
    "path_to_train = './data/train.csv'\n",
    "path_to_test = './data/test.csv'\n",
    "path_to_sample = './data/sample_submission_kaggle.csv'\n",
    "path_to_submission = './data/submission.csv'\n",
    "\n",
    "train = pd.read_csv(path_to_train, encoding='utf-8')\n",
    "test = pd.read_csv(path_to_test, encoding='utf-8')\n",
    "\n",
    "fs = mlgbm.create_submission(train, test, path_to_sample, params, cols, path_to_submission)"
   ]
  },
  {
   "cell_type": "code",
   "execution_count": 4,
   "metadata": {
    "collapsed": false
   },
   "outputs": [
    {
     "data": {
      "text/plain": [
       "[('user_id', 7079),\n",
       " ('user_age', 4401),\n",
       " ('context_type', 2948),\n",
       " ('artist_id', 2743),\n",
       " ('release_date', 2233),\n",
       " ('media_duration', 2070),\n",
       " ('media_id', 1808),\n",
       " ('genre_id', 1803),\n",
       " ('platform_name', 1462),\n",
       " ('album_id', 1272),\n",
       " ('user_gender', 1259),\n",
       " ('platform_family', 922),\n",
       " ('listen_type', 0)]"
      ]
     },
     "execution_count": 4,
     "metadata": {},
     "output_type": "execute_result"
    }
   ],
   "source": [
    "fscore = list(zip(cols, fs))\n",
    "fscore.sort(key=lambda x: x[1])\n",
    "fscore.reverse()\n",
    "fscore"
   ]
  },
  {
   "cell_type": "code",
   "execution_count": null,
   "metadata": {
    "collapsed": true
   },
   "outputs": [],
   "source": []
  }
 ],
 "metadata": {
  "kernelspec": {
   "display_name": "Python 3",
   "language": "python",
   "name": "python3"
  },
  "language_info": {
   "codemirror_mode": {
    "name": "ipython",
    "version": 3
   },
   "file_extension": ".py",
   "mimetype": "text/x-python",
   "name": "python",
   "nbconvert_exporter": "python",
   "pygments_lexer": "ipython3",
   "version": "3.6.0"
  }
 },
 "nbformat": 4,
 "nbformat_minor": 2
}
