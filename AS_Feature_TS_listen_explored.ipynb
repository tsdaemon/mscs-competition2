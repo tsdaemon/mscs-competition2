{
 "cells": [
  {
   "cell_type": "code",
   "execution_count": 1,
   "metadata": {
    "collapsed": true
   },
   "outputs": [],
   "source": [
    "import pandas as pd\n",
    "\n",
    "path_to_train = './data/train.csv'\n",
    "path_to_test = './data/test.csv'\n",
    "\n",
    "train = pd.read_csv(path_to_train, encoding='utf-8', usecols=['ts_listen'])\n",
    "test = pd.read_csv(path_to_test, encoding='utf-8', usecols=['ts_listen'])"
   ]
  },
  {
   "cell_type": "code",
   "execution_count": 2,
   "metadata": {
    "collapsed": true
   },
   "outputs": [],
   "source": [
    "from datetime import datetime"
   ]
  },
  {
   "cell_type": "code",
   "execution_count": 3,
   "metadata": {},
   "outputs": [
    {
     "data": {
      "text/plain": [
       "datetime.datetime(2016, 12, 1, 14, 0, 15)"
      ]
     },
     "execution_count": 3,
     "metadata": {},
     "output_type": "execute_result"
    }
   ],
   "source": [
    "datetime.fromtimestamp(train.loc[0]['ts_listen'])"
   ]
  },
  {
   "cell_type": "code",
   "execution_count": 4,
   "metadata": {},
   "outputs": [
    {
     "data": {
      "text/plain": [
       "1480597215"
      ]
     },
     "execution_count": 4,
     "metadata": {},
     "output_type": "execute_result"
    }
   ],
   "source": [
    "train.loc[0]['ts_listen']"
   ]
  },
  {
   "cell_type": "code",
   "execution_count": 5,
   "metadata": {},
   "outputs": [
    {
     "data": {
      "text/html": [
       "<div>\n",
       "<style>\n",
       "    .dataframe thead tr:only-child th {\n",
       "        text-align: right;\n",
       "    }\n",
       "\n",
       "    .dataframe thead th {\n",
       "        text-align: left;\n",
       "    }\n",
       "\n",
       "    .dataframe tbody tr th {\n",
       "        vertical-align: top;\n",
       "    }\n",
       "</style>\n",
       "<table border=\"1\" class=\"dataframe\">\n",
       "  <thead>\n",
       "    <tr style=\"text-align: right;\">\n",
       "      <th></th>\n",
       "      <th>ts_listen</th>\n",
       "      <th>ts_listen_dt</th>\n",
       "    </tr>\n",
       "  </thead>\n",
       "  <tbody>\n",
       "    <tr>\n",
       "      <th>0</th>\n",
       "      <td>1480597215</td>\n",
       "      <td>2016-12-01 13:00:15</td>\n",
       "    </tr>\n",
       "    <tr>\n",
       "      <th>1</th>\n",
       "      <td>1480544735</td>\n",
       "      <td>2016-11-30 22:25:35</td>\n",
       "    </tr>\n",
       "    <tr>\n",
       "      <th>2</th>\n",
       "      <td>1479563953</td>\n",
       "      <td>2016-11-19 13:59:13</td>\n",
       "    </tr>\n",
       "    <tr>\n",
       "      <th>3</th>\n",
       "      <td>1480152098</td>\n",
       "      <td>2016-11-26 09:21:38</td>\n",
       "    </tr>\n",
       "    <tr>\n",
       "      <th>4</th>\n",
       "      <td>1478368974</td>\n",
       "      <td>2016-11-05 18:02:54</td>\n",
       "    </tr>\n",
       "  </tbody>\n",
       "</table>\n",
       "</div>"
      ],
      "text/plain": [
       "    ts_listen        ts_listen_dt\n",
       "0  1480597215 2016-12-01 13:00:15\n",
       "1  1480544735 2016-11-30 22:25:35\n",
       "2  1479563953 2016-11-19 13:59:13\n",
       "3  1480152098 2016-11-26 09:21:38\n",
       "4  1478368974 2016-11-05 18:02:54"
      ]
     },
     "execution_count": 5,
     "metadata": {},
     "output_type": "execute_result"
    }
   ],
   "source": [
    "train['ts_listen_dt'] = pd.to_datetime(train['ts_listen'],unit='s')\n",
    "test['ts_listen_dt'] = pd.to_datetime(test['ts_listen'],unit='s')\n",
    "train.head()"
   ]
  },
  {
   "cell_type": "code",
   "execution_count": 7,
   "metadata": {},
   "outputs": [
    {
     "data": {
      "text/html": [
       "<div>\n",
       "<style>\n",
       "    .dataframe thead tr:only-child th {\n",
       "        text-align: right;\n",
       "    }\n",
       "\n",
       "    .dataframe thead th {\n",
       "        text-align: left;\n",
       "    }\n",
       "\n",
       "    .dataframe tbody tr th {\n",
       "        vertical-align: top;\n",
       "    }\n",
       "</style>\n",
       "<table border=\"1\" class=\"dataframe\">\n",
       "  <thead>\n",
       "    <tr style=\"text-align: right;\">\n",
       "      <th></th>\n",
       "      <th>ts_listen</th>\n",
       "      <th>ts_listen_dt</th>\n",
       "      <th>ts_listen_hour</th>\n",
       "      <th>ts_listen_dayofweek</th>\n",
       "    </tr>\n",
       "  </thead>\n",
       "  <tbody>\n",
       "    <tr>\n",
       "      <th>0</th>\n",
       "      <td>1480597215</td>\n",
       "      <td>2016-12-01 13:00:15</td>\n",
       "      <td>13</td>\n",
       "      <td>3</td>\n",
       "    </tr>\n",
       "    <tr>\n",
       "      <th>1</th>\n",
       "      <td>1480544735</td>\n",
       "      <td>2016-11-30 22:25:35</td>\n",
       "      <td>22</td>\n",
       "      <td>2</td>\n",
       "    </tr>\n",
       "    <tr>\n",
       "      <th>2</th>\n",
       "      <td>1479563953</td>\n",
       "      <td>2016-11-19 13:59:13</td>\n",
       "      <td>13</td>\n",
       "      <td>5</td>\n",
       "    </tr>\n",
       "    <tr>\n",
       "      <th>3</th>\n",
       "      <td>1480152098</td>\n",
       "      <td>2016-11-26 09:21:38</td>\n",
       "      <td>9</td>\n",
       "      <td>5</td>\n",
       "    </tr>\n",
       "    <tr>\n",
       "      <th>4</th>\n",
       "      <td>1478368974</td>\n",
       "      <td>2016-11-05 18:02:54</td>\n",
       "      <td>18</td>\n",
       "      <td>5</td>\n",
       "    </tr>\n",
       "  </tbody>\n",
       "</table>\n",
       "</div>"
      ],
      "text/plain": [
       "    ts_listen        ts_listen_dt  ts_listen_hour  ts_listen_dayofweek\n",
       "0  1480597215 2016-12-01 13:00:15              13                    3\n",
       "1  1480544735 2016-11-30 22:25:35              22                    2\n",
       "2  1479563953 2016-11-19 13:59:13              13                    5\n",
       "3  1480152098 2016-11-26 09:21:38               9                    5\n",
       "4  1478368974 2016-11-05 18:02:54              18                    5"
      ]
     },
     "execution_count": 7,
     "metadata": {},
     "output_type": "execute_result"
    }
   ],
   "source": [
    "train['ts_listen_hour'] = train['ts_listen_dt'].dt.hour\n",
    "test['ts_listen_hour'] = test['ts_listen_dt'].dt.hour\n",
    "\n",
    "train['ts_listen_dayofweek'] = train['ts_listen_dt'].dt.dayofweek\n",
    "test['ts_listen_dayofweek'] = test['ts_listen_dt'].dt.dayofweek\n",
    "\n",
    "train.head()"
   ]
  },
  {
   "cell_type": "code",
   "execution_count": 10,
   "metadata": {},
   "outputs": [],
   "source": [
    "path_to_test_ts_listen = './data/features/ts_listen.test.csv'\n",
    "path_to_train_ts_listen = './data/features/ts_listen.train.csv'\n",
    "new_cols = ['ts_listen_dayofweek','ts_listen_hour']\n",
    "\n",
    "test_ts_listen = test[new_cols]\n",
    "test_ts_listen.to_csv(path_to_test_ts_listen, encoding='utf-8', index=False)\n",
    "\n",
    "train_ts_listen = train[new_cols]\n",
    "train_ts_listen.to_csv(path_to_train_ts_listen, encoding='utf-8', index=False)"
   ]
  },
  {
   "cell_type": "code",
   "execution_count": null,
   "metadata": {
    "collapsed": true
   },
   "outputs": [],
   "source": []
  }
 ],
 "metadata": {
  "kernelspec": {
   "display_name": "Python 3",
   "language": "python",
   "name": "python3"
  },
  "language_info": {
   "codemirror_mode": {
    "name": "ipython",
    "version": 3
   },
   "file_extension": ".py",
   "mimetype": "text/x-python",
   "name": "python",
   "nbconvert_exporter": "python",
   "pygments_lexer": "ipython3",
   "version": "3.5.2"
  }
 },
 "nbformat": 4,
 "nbformat_minor": 2
}
