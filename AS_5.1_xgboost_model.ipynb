{
 "cells": [
  {
   "cell_type": "code",
   "execution_count": 8,
   "metadata": {
    "collapsed": false
   },
   "outputs": [
    {
     "data": {
      "text/plain": [
       "0.50257042762121007"
      ]
     },
     "execution_count": 8,
     "metadata": {},
     "output_type": "execute_result"
    }
   ],
   "source": [
    "import pandas as pd\n",
    "import xgboost as xgb\n",
    "import validation as v\n",
    "import model as m\n",
    "\n",
    "path_to_train = './data/train.csv'\n",
    "\n",
    "train = pd.read_csv(path_to_train, encoding='utf-8', usecols=['genre_id', 'user_id', 'context_type', 'ts_listen', 'release_date', 'platform_name', 'platform_family', 'media_duration', 'listen_type', 'user_gender', 'is_listened'])\n",
    "\n",
    "x_cols = ['genre_id', 'user_id', 'context_type', 'ts_listen', 'release_date', 'platform_name', 'platform_family', 'media_duration', 'listen_type', 'user_gender']\n",
    "y_col = 'is_listened'\n",
    "\n",
    "clf = xgb.LGBMClassifier(seed=42)\n",
    "\n",
    "clf, auc = m.train_and_validate(train, x_cols, y_col, clf, v.split_train_validation_by_last_record)\n",
    "auc"
   ]
  },
  {
   "cell_type": "code",
   "execution_count": null,
   "metadata": {
    "collapsed": true
   },
   "outputs": [],
   "source": []
  }
 ],
 "metadata": {
  "anaconda-cloud": {},
  "kernelspec": {
   "display_name": "Python 3",
   "language": "python",
   "name": "python3"
  },
  "language_info": {
   "codemirror_mode": {
    "name": "ipython",
    "version": 3
   },
   "file_extension": ".py",
   "mimetype": "text/x-python",
   "name": "python",
   "nbconvert_exporter": "python",
   "pygments_lexer": "ipython3",
   "version": "3.6.0"
  }
 },
 "nbformat": 4,
 "nbformat_minor": 2
}
