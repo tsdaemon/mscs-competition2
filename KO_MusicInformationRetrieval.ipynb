{
 "cells": [
  {
   "cell_type": "code",
   "execution_count": null,
   "metadata": {
    "collapsed": false
   },
   "outputs": [],
   "source": [
    "import pandas as pd\n",
    "\n",
    "train = pd.read_csv('train.csv', encoding='utf-8')\n",
    "test = pd.read_csv('test.csv', encoding='utf-8')\n",
    "train.head()"
   ]
  },
  {
   "cell_type": "code",
   "execution_count": null,
   "metadata": {
    "collapsed": true
   },
   "outputs": [],
   "source": [
    "media_id = pd.concat([train.media_id, test.media_id])"
   ]
  },
  {
   "cell_type": "code",
   "execution_count": null,
   "metadata": {
    "collapsed": true
   },
   "outputs": [],
   "source": [
    "mfcc = []\n",
    "mel = []\n",
    "rank = []\n",
    "bpm = []\n",
    "gain = []\n",
    "explicit_lyrics = []"
   ]
  },
  {
   "cell_type": "code",
   "execution_count": null,
   "metadata": {
    "collapsed": false
   },
   "outputs": [],
   "source": [
    "import json, requests\n",
    "import librosa\n",
    "from array import array\n",
    "from six.moves.urllib.request import urlretrieve\n",
    "import six.moves.urllib as urllib\n",
    "from time import sleep\n",
    "\n",
    "url = 'https://api.deezer.com/track/'\n",
    "total = len(media_id.unique())\n",
    "filename = 'test.mp3'\n",
    "for i,el in enumerate(media_id.unique()) :\n",
    "    url1 = url + str(el)\n",
    "    resp = requests.get(url=url1)\n",
    "    data = json.loads(resp.text)\n",
    "    preview = data['preview']\n",
    "    if preview == '':\n",
    "        if not data.get('alternative'):\n",
    "            print('no track preview!')\n",
    "            rank.append(data['rank'])\n",
    "            bpm.append(data['bpm'])\n",
    "            gain.append(data['gain'])\n",
    "            explicit_lyrics.append(data['explicit_lyrics'])\n",
    "            mel.append([0])\n",
    "            mfcc.append([0])\n",
    "            continue\n",
    "        preview = data['alternative']['preview']\n",
    "        rank.append(data['alternative']['rank'])\n",
    "        bpm.append(data['alternative']['bpm'])\n",
    "        gain.append(data['alternative']['gain'])\n",
    "        explicit_lyrics.append(data['alternative']['explicit_lyrics'])\n",
    "        \n",
    "    else:\n",
    "        rank.append(data['rank'])\n",
    "        bpm.append(data['bpm'])\n",
    "        gain.append(data['gain'])\n",
    "        explicit_lyrics.append(data['explicit_lyrics'])\n",
    "    \n",
    "    try:\n",
    "        urlretrieve(preview, filename=filename)\n",
    "        y, sr = librosa.load(filename)\n",
    "        mel.append(librosa.feature.melspectrogram(y=y, sr=sr))\n",
    "        mfcc.append(librosa.feature.mfcc(y=y, sr=sr))\n",
    "    except (urllib.error.HTTPError,urllib.error.URLError) as err:\n",
    "        mel.append([0])\n",
    "        mfcc.append([0])\n",
    "    print(\"Completed \" + str(i) + \" from \" + str(total))\n",
    " "
   ]
  },
  {
   "cell_type": "code",
   "execution_count": null,
   "metadata": {
    "collapsed": false,
    "scrolled": true
   },
   "outputs": [],
   "source": [
    "from multiprocessing import Pool\n",
    "\n",
    "def process(x):\n",
    "    url = 'https://api.deezer.com/track/' + str(x)\n",
    "    resp = requests.get(url=url)\n",
    "    data = json.loads(resp.text)\n",
    "    preview = data['preview']\n",
    "    print('Iter')\n",
    "    if preview == '':\n",
    "        preview = data['alternative']['preview']\n",
    "        rank = data['alternative']['rank']\n",
    "        bpm = data['alternative']['bpm']\n",
    "        gain = data['alternative']['gain']\n",
    "        explicit_lyrics = data['alternative']['explicit_lyrics']\n",
    "        urlretrieve(preview, filename=filename)\n",
    "        y, sr = librosa.load(filename)\n",
    "        mel = librosa.feature.melspectrogram(y=y, sr=sr)\n",
    "        mfcc = librosa.feature.mfcc(y=y, sr=sr)\n",
    "        return {'id' : x, 'rank': rank, 'bpm': bpm, 'gain': gain, 'explicit_lyrics' : explicit_lyrics, 'mel' : mel, 'mfcc' : mfcc}\n",
    "        \n",
    "    else:\n",
    "        rank = data['rank']\n",
    "        bpm = data['bpm']\n",
    "        gain = data['gain']\n",
    "        explicit_lyrics = data['explicit_lyrics']\n",
    "        urlretrieve(preview, filename=filename)\n",
    "        y, sr = librosa.load(filename)\n",
    "        mel = librosa.feature.melspectrogram(y=y, sr=sr)\n",
    "        mfcc = librosa.feature.mfcc(y=y, sr=sr)\n",
    "        return {'id' : x, 'rank': rank, 'bpm': bpm, 'gain': gain, 'explicit_lyrics' : explicit_lyrics, 'mel' : mel, 'mfcc' : mfcc}\n",
    "        \n",
    "\n",
    "pool = Pool()\n",
    "\n",
    "result = pool.map(process, media_id.unique())"
   ]
  },
  {
   "cell_type": "code",
   "execution_count": null,
   "metadata": {
    "collapsed": false
   },
   "outputs": [],
   "source": [
    "bpm"
   ]
  }
 ],
 "metadata": {
  "anaconda-cloud": {},
  "kernelspec": {
   "display_name": "Python [Root]",
   "language": "python",
   "name": "Python [Root]"
  },
  "language_info": {
   "codemirror_mode": {
    "name": "ipython",
    "version": 3
   },
   "file_extension": ".py",
   "mimetype": "text/x-python",
   "name": "python",
   "nbconvert_exporter": "python",
   "pygments_lexer": "ipython3",
   "version": "3.5.2"
  }
 },
 "nbformat": 4,
 "nbformat_minor": 0
}
