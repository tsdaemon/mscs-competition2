{
 "cells": [
  {
   "cell_type": "code",
   "execution_count": 1,
   "metadata": {
    "collapsed": true
   },
   "outputs": [],
   "source": [
    "import pandas as pd\n",
    "\n",
    "path_to_train = './data/train.csv'\n",
    "\n",
    "train = pd.read_csv(path_to_train, encoding='utf-8', usecols=['genre_id', 'user_id', 'context_type', 'ts_listen', 'release_date', 'platform_name', 'platform_family', 'media_duration', 'listen_type', 'user_gender', 'is_listened'])"
   ]
  },
  {
   "cell_type": "code",
   "execution_count": 2,
   "metadata": {
    "collapsed": true
   },
   "outputs": [],
   "source": [
    "x_cols = ['genre_id', 'user_id', 'context_type', 'ts_listen', 'release_date', 'platform_name', 'platform_family', 'media_duration', 'listen_type', 'user_gender']\n",
    "y_col = 'is_listened'"
   ]
  },
  {
   "cell_type": "markdown",
   "metadata": {},
   "source": [
    "Цікава думка. Може треба тренуватися тільки на записах, котрі з Flow (listen_type=1)? Я думаю, так і треба робити."
   ]
  },
  {
   "cell_type": "code",
   "execution_count": 3,
   "metadata": {
    "collapsed": false
   },
   "outputs": [],
   "source": [
    "# train-test-X-Y\n",
    "import validation as v\n",
    "train_i, validation_i = v.only_flow_split_train_validation_by_last_record(train)\n",
    "Y_train = train.loc[train_i][y_col]\n",
    "X_train = train.loc[train_i][x_cols]\n",
    "\n",
    "Y_validation = train.loc[validation_i][y_col]\n",
    "X_validation = train.loc[validation_i][x_cols]"
   ]
  },
  {
   "cell_type": "code",
   "execution_count": 4,
   "metadata": {
    "collapsed": false
   },
   "outputs": [],
   "source": [
    "# fit\n",
    "from sklearn.linear_model import LogisticRegression\n",
    "clf = LogisticRegression()\n",
    "clf = clf.fit(X_train, Y_train)"
   ]
  },
  {
   "cell_type": "code",
   "execution_count": 5,
   "metadata": {
    "collapsed": false
   },
   "outputs": [
    {
     "data": {
      "text/plain": [
       "0.57716115422326397"
      ]
     },
     "execution_count": 5,
     "metadata": {},
     "output_type": "execute_result"
    }
   ],
   "source": [
    "# validate\n",
    "from sklearn.metrics import roc_auc_score\n",
    "import numpy as np\n",
    "Y_predicted = clf.predict_proba(X_validation)[:,1]\n",
    "roc_auc_score(np.array(Y_validation), Y_predicted)"
   ]
  },
  {
   "cell_type": "code",
   "execution_count": 11,
   "metadata": {
    "collapsed": false
   },
   "outputs": [],
   "source": [
    "# let's do the submission!\n",
    "path_to_test = './data/test.csv'\n",
    "path_to_submission = './data/submission.csv'\n",
    "\n",
    "test = pd.read_csv(path_to_test, encoding='utf-8', usecols=['sample_id', 'genre_id', 'user_id', 'context_type', 'ts_listen', 'release_date', 'platform_name', 'platform_family', 'media_duration', 'listen_type', 'user_gender'],index_col='sample_id')\n",
    "\n",
    "X_test = test[x_cols]\n",
    "Y_test = clf.predict_proba(X_test)[:,1]\n",
    "\n",
    "submission = pd.DataFrame(columns=['sample_id', 'is_listened'])\n",
    "submission['is_listened'] = Y_test\n",
    "submission['sample_id'] = test.index\n",
    "\n",
    "submission.to_csv(path_to_submission, encoding='utf-8', index=False)"
   ]
  },
  {
   "cell_type": "markdown",
   "metadata": {},
   "source": [
    "А якщо спробувати те саме, тільки взяти інші дані для тренування?"
   ]
  },
  {
   "cell_type": "code",
   "execution_count": 12,
   "metadata": {
    "collapsed": true
   },
   "outputs": [],
   "source": [
    "# train-test-X-Y\n",
    "import validation as v\n",
    "train_i, validation_i = v.split_train_validation_by_last_record_and_flow(train)\n",
    "Y_train = train.loc[train_i][y_col]\n",
    "X_train = train.loc[train_i][x_cols]\n",
    "\n",
    "Y_validation = train.loc[validation_i][y_col]\n",
    "X_validation = train.loc[validation_i][x_cols]"
   ]
  },
  {
   "cell_type": "code",
   "execution_count": 13,
   "metadata": {
    "collapsed": false
   },
   "outputs": [
    {
     "data": {
      "text/plain": [
       "0.57716093554493164"
      ]
     },
     "execution_count": 13,
     "metadata": {},
     "output_type": "execute_result"
    }
   ],
   "source": [
    "clf = LogisticRegression()\n",
    "clf = clf.fit(X_train, Y_train)\n",
    "Y_predicted = clf.predict_proba(X_validation)[:,1]\n",
    "roc_auc_score(np.array(Y_validation), Y_predicted)"
   ]
  }
 ],
 "metadata": {
  "kernelspec": {
   "display_name": "Python 3",
   "language": "python",
   "name": "python3"
  },
  "language_info": {
   "codemirror_mode": {
    "name": "ipython",
    "version": 3
   },
   "file_extension": ".py",
   "mimetype": "text/x-python",
   "name": "python",
   "nbconvert_exporter": "python",
   "pygments_lexer": "ipython3",
   "version": "3.6.0"
  }
 },
 "nbformat": 4,
 "nbformat_minor": 0
}
