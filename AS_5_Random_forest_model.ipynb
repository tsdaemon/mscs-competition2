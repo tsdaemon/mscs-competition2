{
 "cells": [
  {
   "cell_type": "code",
   "execution_count": 1,
   "metadata": {
    "collapsed": false
   },
   "outputs": [
    {
     "data": {
      "text/plain": [
       "0.61928899667151394"
      ]
     },
     "execution_count": 1,
     "metadata": {},
     "output_type": "execute_result"
    }
   ],
   "source": [
    "import pandas as pd\n",
    "from sklearn.ensemble import RandomForestClassifier\n",
    "import validation as v\n",
    "import model as m\n",
    "\n",
    "path_to_train = './data/train.csv'\n",
    "\n",
    "train = pd.read_csv(path_to_train, encoding='utf-8', usecols=['genre_id', 'user_id', 'context_type', 'ts_listen', 'release_date', 'platform_name', 'platform_family', 'media_duration', 'listen_type', 'user_gender', 'is_listened'])\n",
    "\n",
    "x_cols = ['genre_id', 'user_id', 'context_type', 'ts_listen', 'release_date', 'platform_name', 'platform_family', 'media_duration', 'listen_type', 'user_gender']\n",
    "y_col = 'is_listened'\n",
    "clf = RandomForestClassifier(n_estimators=30, random_state=42)\n",
    "\n",
    "clf, auc = m.train_and_validate(train, x_cols, y_col, clf, v.only_flow_split_train_validation_by_last_record)\n",
    "auc"
   ]
  },
  {
   "cell_type": "code",
   "execution_count": null,
   "metadata": {
    "collapsed": true
   },
   "outputs": [],
   "source": [
    "from sklearn.externals import joblib\n",
    "joblib.dump(clf, 'random_forest.pkl')"
   ]
  },
  {
   "cell_type": "code",
   "execution_count": 2,
   "metadata": {
    "collapsed": false
   },
   "outputs": [],
   "source": [
    "from sklearn.externals import joblib\n",
    "clf = joblib.load('random_forest.pkl') "
   ]
  },
  {
   "cell_type": "code",
   "execution_count": 5,
   "metadata": {
    "collapsed": false
   },
   "outputs": [],
   "source": [
    "import pandas as pd\n",
    "import model as m\n",
    "path_to_test = './data/test2.csv'\n",
    "path_to_submission = './data/submission.csv'\n",
    "x_cols = ['genre_id', 'user_id', 'context_type', 'ts_listen', 'release_date', 'platform_name', 'platform_family', 'media_duration', 'listen_type', 'user_gender']\n",
    "\n",
    "test = pd.read_csv(path_to_test, encoding='utf-8', usecols=['sample_id', 'genre_id', 'user_id', 'context_type', 'ts_listen', 'release_date', 'platform_name', 'platform_family', 'media_duration', 'listen_type', 'user_gender'],index_col='sample_id')\n",
    "\n",
    "m.do_submission(test, x_cols, path_to_submission, clf)"
   ]
  },
  {
   "cell_type": "code",
   "execution_count": null,
   "metadata": {
    "collapsed": true
   },
   "outputs": [],
   "source": []
  }
 ],
 "metadata": {
  "anaconda-cloud": {},
  "kernelspec": {
   "display_name": "Python [py35]",
   "language": "python",
   "name": "Python [py35]"
  },
  "language_info": {
   "codemirror_mode": {
    "name": "ipython",
    "version": 3
   },
   "file_extension": ".py",
   "mimetype": "text/x-python",
   "name": "python",
   "nbconvert_exporter": "python",
   "pygments_lexer": "ipython3",
   "version": "3.5.2"
  }
 },
 "nbformat": 4,
 "nbformat_minor": 0
}
