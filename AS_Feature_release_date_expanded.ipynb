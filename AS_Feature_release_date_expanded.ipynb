{
 "cells": [
  {
   "cell_type": "code",
   "execution_count": 2,
   "metadata": {
    "collapsed": false
   },
   "outputs": [
    {
     "data": {
      "text/html": [
       "<div>\n",
       "<table border=\"1\" class=\"dataframe\">\n",
       "  <thead>\n",
       "    <tr style=\"text-align: right;\">\n",
       "      <th></th>\n",
       "      <th>release_date</th>\n",
       "    </tr>\n",
       "  </thead>\n",
       "  <tbody>\n",
       "    <tr>\n",
       "      <th>7578747</th>\n",
       "      <td>20161014</td>\n",
       "    </tr>\n",
       "    <tr>\n",
       "      <th>7578748</th>\n",
       "      <td>20161014</td>\n",
       "    </tr>\n",
       "    <tr>\n",
       "      <th>7578749</th>\n",
       "      <td>19910101</td>\n",
       "    </tr>\n",
       "    <tr>\n",
       "      <th>7578750</th>\n",
       "      <td>19910101</td>\n",
       "    </tr>\n",
       "    <tr>\n",
       "      <th>7578751</th>\n",
       "      <td>19910101</td>\n",
       "    </tr>\n",
       "  </tbody>\n",
       "</table>\n",
       "</div>"
      ],
      "text/plain": [
       "         release_date\n",
       "7578747      20161014\n",
       "7578748      20161014\n",
       "7578749      19910101\n",
       "7578750      19910101\n",
       "7578751      19910101"
      ]
     },
     "execution_count": 2,
     "metadata": {},
     "output_type": "execute_result"
    }
   ],
   "source": [
    "import pandas as pd\n",
    "\n",
    "path_to_train = './data/train.csv'\n",
    "path_to_test = './data/test.csv'\n",
    "\n",
    "train = pd.read_csv(path_to_train, encoding='utf-8', usecols=['release_date'])\n",
    "test = pd.read_csv(path_to_test, encoding='utf-8', usecols=['release_date'])\n",
    "\n",
    "df = pd.concat([train, test], ignore_index=True)\n",
    "df.tail()"
   ]
  },
  {
   "cell_type": "code",
   "execution_count": 11,
   "metadata": {
    "collapsed": false
   },
   "outputs": [
    {
     "data": {
      "text/html": [
       "<div>\n",
       "<table border=\"1\" class=\"dataframe\">\n",
       "  <thead>\n",
       "    <tr style=\"text-align: right;\">\n",
       "      <th></th>\n",
       "      <th>release_date</th>\n",
       "      <th>release_date_dt</th>\n",
       "    </tr>\n",
       "  </thead>\n",
       "  <tbody>\n",
       "    <tr>\n",
       "      <th>0</th>\n",
       "      <td>20040704</td>\n",
       "      <td>2004-07-04</td>\n",
       "    </tr>\n",
       "    <tr>\n",
       "      <th>1</th>\n",
       "      <td>20060301</td>\n",
       "      <td>2006-03-01</td>\n",
       "    </tr>\n",
       "    <tr>\n",
       "      <th>2</th>\n",
       "      <td>20140714</td>\n",
       "      <td>2014-07-14</td>\n",
       "    </tr>\n",
       "    <tr>\n",
       "      <th>3</th>\n",
       "      <td>20001030</td>\n",
       "      <td>2000-10-30</td>\n",
       "    </tr>\n",
       "    <tr>\n",
       "      <th>4</th>\n",
       "      <td>20080215</td>\n",
       "      <td>2008-02-15</td>\n",
       "    </tr>\n",
       "  </tbody>\n",
       "</table>\n",
       "</div>"
      ],
      "text/plain": [
       "   release_date release_date_dt\n",
       "0      20040704      2004-07-04\n",
       "1      20060301      2006-03-01\n",
       "2      20140714      2014-07-14\n",
       "3      20001030      2000-10-30\n",
       "4      20080215      2008-02-15"
      ]
     },
     "execution_count": 11,
     "metadata": {},
     "output_type": "execute_result"
    }
   ],
   "source": [
    "from datetime import date\n",
    "import matplotlib.pyplot as plt\n",
    "%matplotlib inline\n",
    "\n",
    "def extract_date(date_int):\n",
    "    date_str = str(date_int)\n",
    "    year = int(date_str[0:4])\n",
    "    month = int(date_str[4:6])\n",
    "    day = int(date_str[6:8])\n",
    "    return date(year, month, day)\n",
    "\n",
    "df['release_date_dt'] = df.apply(lambda row: extract_date(row['release_date']),axis=1)\n",
    "df.head()"
   ]
  },
  {
   "cell_type": "code",
   "execution_count": 20,
   "metadata": {
    "collapsed": false
   },
   "outputs": [
    {
     "data": {
      "text/plain": [
       "<matplotlib.axes._subplots.AxesSubplot at 0xd1ef6b898>"
      ]
     },
     "execution_count": 20,
     "metadata": {},
     "output_type": "execute_result"
    },
    {
     "data": {
      "image/png": "[encoded data removed]",
      "text/plain": [
       "<matplotlib.figure.Figure at 0xd569e78d0>"
      ]
     },
     "metadata": {},
     "output_type": "display_data"
    }
   ],
   "source": [
    "df['release_date_dt'].hist(bins=60)"
   ]
  },
  {
   "cell_type": "code",
   "execution_count": 19,
   "metadata": {
    "collapsed": false
   },
   "outputs": [],
   "source": [
    "df.ix[df['release_date'] > 30000000,'release_date_dt'] = date(2000,1,1)\n",
    "df.ix[df['release_date'] > 30000000,'release_date'] = 20000101"
   ]
  },
  {
   "cell_type": "code",
   "execution_count": 21,
   "metadata": {
    "collapsed": false
   },
   "outputs": [],
   "source": [
    "df['release_date_year'] = df.apply(lambda row: row['release_date_dt'].year, axis=1)\n",
    "df['release_date_month'] = df.apply(lambda row: row['release_date_dt'].month, axis=1)\n",
    "df['release_date_day'] = df.apply(lambda row: row['release_date_dt'].day, axis=1)"
   ]
  },
  {
   "cell_type": "code",
   "execution_count": 26,
   "metadata": {
    "collapsed": true
   },
   "outputs": [],
   "source": [
    "df['release_date_decade'] = df.apply(lambda row: int((row['release_date_dt'].year-1900)/10), axis=1)"
   ]
  },
  {
   "cell_type": "code",
   "execution_count": 29,
   "metadata": {
    "collapsed": false
   },
   "outputs": [
    {
     "data": {
      "text/plain": [
       "0    10\n",
       "1    10\n",
       "2    11\n",
       "3    10\n",
       "4    10\n",
       "5    10\n",
       "6    10\n",
       "7    10\n",
       "8    10\n",
       "9    10\n",
       "Name: release_date_decade, dtype: int64"
      ]
     },
     "execution_count": 29,
     "metadata": {},
     "output_type": "execute_result"
    }
   ],
   "source": [
    "df['release_date_decade'].head(10)"
   ]
  },
  {
   "cell_type": "code",
   "execution_count": 41,
   "metadata": {
    "collapsed": true
   },
   "outputs": [],
   "source": [
    "path_to_release_date_train = './data/features/release_date.train.txt'\n",
    "path_to_release_date_test = './data/features/release_date.test.txt'"
   ]
  },
  {
   "cell_type": "code",
   "execution_count": null,
   "metadata": {
    "collapsed": true
   },
   "outputs": [],
   "source": [
    "del df['release_date_dt']\n",
    "del df['release_date']"
   ]
  },
  {
   "cell_type": "code",
   "execution_count": 42,
   "metadata": {
    "collapsed": false
   },
   "outputs": [],
   "source": [
    "train_dt = df.loc[range(len(train))]\n",
    "train_dt.to_csv(path_to_release_date_train, encoding='utf-8', index=False)\n",
    "\n",
    "test_dt = df.loc[range(len(train), len(test))]\n",
    "test_dt.to_csv(path_to_release_date_test, encoding='utf-8', index=False)"
   ]
  }
 ],
 "metadata": {
  "anaconda-cloud": {},
  "kernelspec": {
   "display_name": "Python [py35]",
   "language": "python",
   "name": "Python [py35]"
  },
  "language_info": {
   "codemirror_mode": {
    "name": "ipython",
    "version": 3
   },
   "file_extension": ".py",
   "mimetype": "text/x-python",
   "name": "python",
   "nbconvert_exporter": "python",
   "pygments_lexer": "ipython3",
   "version": "3.5.2"
  }
 },
 "nbformat": 4,
 "nbformat_minor": 0
}
