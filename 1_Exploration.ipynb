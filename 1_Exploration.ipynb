{
 "cells": [
  {
   "cell_type": "code",
   "execution_count": 11,
   "metadata": {
    "collapsed": false
   },
   "outputs": [],
   "source": [
    "import pandas as pd\n",
    "import codecs as cd\n",
    "path_to_media = './data/extra_infos.json'\n",
    "path_to_train = './data/train.csv'"
   ]
  },
  {
   "cell_type": "code",
   "execution_count": 12,
   "metadata": {
    "collapsed": false
   },
   "outputs": [
    {
     "data": {
      "text/html": [
       "<div>\n",
       "<table border=\"1\" class=\"dataframe\">\n",
       "  <thead>\n",
       "    <tr style=\"text-align: right;\">\n",
       "      <th></th>\n",
       "      <th>alb_title</th>\n",
       "      <th>art_name</th>\n",
       "      <th>media_id</th>\n",
       "      <th>sng_title</th>\n",
       "    </tr>\n",
       "  </thead>\n",
       "  <tbody>\n",
       "    <tr>\n",
       "      <th>0</th>\n",
       "      <td>El Son de Cuba</td>\n",
       "      <td>Septeto Nacional De Ignacio Pineiro</td>\n",
       "      <td>213952</td>\n",
       "      <td>Maria Cristina</td>\n",
       "    </tr>\n",
       "    <tr>\n",
       "      <th>1</th>\n",
       "      <td>Sounds from the fourth world</td>\n",
       "      <td>Calvin Russell</td>\n",
       "      <td>223014</td>\n",
       "      <td>Love stealer</td>\n",
       "    </tr>\n",
       "    <tr>\n",
       "      <th>2</th>\n",
       "      <td>Le meilleur de Malavoi</td>\n",
       "      <td>Malavoi</td>\n",
       "      <td>237198</td>\n",
       "      <td>Caressé moin</td>\n",
       "    </tr>\n",
       "    <tr>\n",
       "      <th>3</th>\n",
       "      <td>Les titres essentiels Cuba</td>\n",
       "      <td>Soneros De Verdad</td>\n",
       "      <td>238380</td>\n",
       "      <td>A Buena Vista</td>\n",
       "    </tr>\n",
       "    <tr>\n",
       "      <th>4</th>\n",
       "      <td>Dantzig Twist</td>\n",
       "      <td>Marquis de Sade</td>\n",
       "      <td>244881</td>\n",
       "      <td>Nacht und Nebel</td>\n",
       "    </tr>\n",
       "  </tbody>\n",
       "</table>\n",
       "</div>"
      ],
      "text/plain": [
       "                      alb_title                             art_name  \\\n",
       "0                El Son de Cuba  Septeto Nacional De Ignacio Pineiro   \n",
       "1  Sounds from the fourth world                       Calvin Russell   \n",
       "2        Le meilleur de Malavoi                              Malavoi   \n",
       "3    Les titres essentiels Cuba                    Soneros De Verdad   \n",
       "4                 Dantzig Twist                      Marquis de Sade   \n",
       "\n",
       "   media_id        sng_title  \n",
       "0    213952   Maria Cristina  \n",
       "1    223014     Love stealer  \n",
       "2    237198     Caressé moin  \n",
       "3    238380    A Buena Vista  \n",
       "4    244881  Nacht und Nebel  "
      ]
     },
     "execution_count": 12,
     "metadata": {},
     "output_type": "execute_result"
    }
   ],
   "source": [
    "# read the entire file into a python array\n",
    "with cd.open(path_to_media, 'r', 'utf-8') as f:\n",
    "    data = f.readlines()\n",
    "\n",
    "# remove the trailing \"\\n\" from each line\n",
    "data = map(lambda x: x.rstrip(), data)\n",
    "\n",
    "data_json_str = \"[\" + ','.join(data) + \"]\"\n",
    "\n",
    "media_info = pd.read_json(data_json_str)\n",
    "media_info.head()"
   ]
  },
  {
   "cell_type": "code",
   "execution_count": 14,
   "metadata": {
    "collapsed": false
   },
   "outputs": [
    {
     "data": {
      "text/html": [
       "<div>\n",
       "<table border=\"1\" class=\"dataframe\">\n",
       "  <thead>\n",
       "    <tr style=\"text-align: right;\">\n",
       "      <th></th>\n",
       "      <th>genre_id</th>\n",
       "      <th>ts_listen</th>\n",
       "      <th>media_id</th>\n",
       "      <th>album_id</th>\n",
       "      <th>context_type</th>\n",
       "      <th>release_date</th>\n",
       "      <th>platform_name</th>\n",
       "      <th>platform_family</th>\n",
       "      <th>media_duration</th>\n",
       "      <th>listen_type</th>\n",
       "      <th>user_gender</th>\n",
       "      <th>user_id</th>\n",
       "      <th>artist_id</th>\n",
       "      <th>user_age</th>\n",
       "      <th>is_listened</th>\n",
       "    </tr>\n",
       "  </thead>\n",
       "  <tbody>\n",
       "    <tr>\n",
       "      <th>0</th>\n",
       "      <td>25471</td>\n",
       "      <td>1480597215</td>\n",
       "      <td>222606</td>\n",
       "      <td>41774</td>\n",
       "      <td>12</td>\n",
       "      <td>20040704</td>\n",
       "      <td>1</td>\n",
       "      <td>0</td>\n",
       "      <td>223</td>\n",
       "      <td>0</td>\n",
       "      <td>0</td>\n",
       "      <td>9241</td>\n",
       "      <td>55164</td>\n",
       "      <td>29</td>\n",
       "      <td>0</td>\n",
       "    </tr>\n",
       "    <tr>\n",
       "      <th>1</th>\n",
       "      <td>25571</td>\n",
       "      <td>1480544735</td>\n",
       "      <td>250467</td>\n",
       "      <td>43941</td>\n",
       "      <td>0</td>\n",
       "      <td>20060301</td>\n",
       "      <td>2</td>\n",
       "      <td>1</td>\n",
       "      <td>171</td>\n",
       "      <td>0</td>\n",
       "      <td>0</td>\n",
       "      <td>16547</td>\n",
       "      <td>55830</td>\n",
       "      <td>30</td>\n",
       "      <td>1</td>\n",
       "    </tr>\n",
       "    <tr>\n",
       "      <th>2</th>\n",
       "      <td>16</td>\n",
       "      <td>1479563953</td>\n",
       "      <td>305197</td>\n",
       "      <td>48078</td>\n",
       "      <td>1</td>\n",
       "      <td>20140714</td>\n",
       "      <td>2</td>\n",
       "      <td>1</td>\n",
       "      <td>149</td>\n",
       "      <td>1</td>\n",
       "      <td>1</td>\n",
       "      <td>7665</td>\n",
       "      <td>2704</td>\n",
       "      <td>29</td>\n",
       "      <td>1</td>\n",
       "    </tr>\n",
       "    <tr>\n",
       "      <th>3</th>\n",
       "      <td>7</td>\n",
       "      <td>1480152098</td>\n",
       "      <td>900502</td>\n",
       "      <td>71521</td>\n",
       "      <td>0</td>\n",
       "      <td>20001030</td>\n",
       "      <td>0</td>\n",
       "      <td>0</td>\n",
       "      <td>240</td>\n",
       "      <td>0</td>\n",
       "      <td>1</td>\n",
       "      <td>1580</td>\n",
       "      <td>938</td>\n",
       "      <td>30</td>\n",
       "      <td>0</td>\n",
       "    </tr>\n",
       "    <tr>\n",
       "      <th>4</th>\n",
       "      <td>7</td>\n",
       "      <td>1478368974</td>\n",
       "      <td>542335</td>\n",
       "      <td>71718</td>\n",
       "      <td>0</td>\n",
       "      <td>20080215</td>\n",
       "      <td>0</td>\n",
       "      <td>0</td>\n",
       "      <td>150</td>\n",
       "      <td>0</td>\n",
       "      <td>1</td>\n",
       "      <td>1812</td>\n",
       "      <td>2939</td>\n",
       "      <td>24</td>\n",
       "      <td>1</td>\n",
       "    </tr>\n",
       "  </tbody>\n",
       "</table>\n",
       "</div>"
      ],
      "text/plain": [
       "   genre_id   ts_listen  media_id  album_id  context_type  release_date  \\\n",
       "0     25471  1480597215    222606     41774            12      20040704   \n",
       "1     25571  1480544735    250467     43941             0      20060301   \n",
       "2        16  1479563953    305197     48078             1      20140714   \n",
       "3         7  1480152098    900502     71521             0      20001030   \n",
       "4         7  1478368974    542335     71718             0      20080215   \n",
       "\n",
       "   platform_name  platform_family  media_duration  listen_type  user_gender  \\\n",
       "0              1                0             223            0            0   \n",
       "1              2                1             171            0            0   \n",
       "2              2                1             149            1            1   \n",
       "3              0                0             240            0            1   \n",
       "4              0                0             150            0            1   \n",
       "\n",
       "   user_id  artist_id  user_age  is_listened  \n",
       "0     9241      55164        29            0  \n",
       "1    16547      55830        30            1  \n",
       "2     7665       2704        29            1  \n",
       "3     1580        938        30            0  \n",
       "4     1812       2939        24            1  "
      ]
     },
     "execution_count": 14,
     "metadata": {},
     "output_type": "execute_result"
    }
   ],
   "source": [
    "train = pd.read_csv(path_to_train, encoding='utf-8', nrows=2000)\n",
    "train.head()"
   ]
  },
  {
   "cell_type": "markdown",
   "metadata": {},
   "source": [
    "Є три типи колонок. Є інформація про користувача: `user_gender`, `user_age`. Є інформація про пісню: назва, альбом, виконавець, `genre_id`, `release_date`, `media_duration`. Є інформація про конкретне прослуховування: `ts_listen`, `platform_name`, `platform_family`, `listen_type`.\n",
    "\n",
    "Що звідки ми можемо витягнути? Час доби. Чи слухає користувач flow взагалі. \n",
    "\n",
    "Як можна кластеризувати користувачів? Скільки разів він слухав кожен з жанрів (порахувати кількість жанрів). В який час любить слухати музику (вечір, робочий час, вихідні). В якому контексті скільки разів він слухав музику. З якої платформи скільки разів він слухав музику. Чи використовує він Flow. І, найскладніше, за спільними музичними уподобаннями.\n",
    "\n",
    "Для останнього можна спробувати аналіз графа."
   ]
  },
  {
   "cell_type": "markdown",
   "metadata": {},
   "source": [
    "#### Питання 1\n",
    "Чи є розшифровка закодованних полів? (`platform_name`, `platform_family` etc)"
   ]
  },
  {
   "cell_type": "markdown",
   "metadata": {},
   "source": [
    "#### Feature idea 1 (+++)\n",
    "Можна з назви пісні, альбома, імені виконавця витащити мову, на якій ця пісня. 100% це буде важлива фіча.\n",
    "#### Feature idea 2 (+)\n",
    "Можна взяти як фічу час доби.\n",
    "#### Feature idea 3 (++++++)\n",
    "Порівнювати музику за допомогою DBPedia https://link.springer.com/chapter/10.1007%2F978-3-642-13489-0_34?LI=true\n",
    "#### Feature idea 4 (++)\n",
    "Побудувати граф по цих данних і визначати відстань від пісні до користувача.\n",
    "#### Feature idea 5 (+++++)\n",
    "Витащити з DBPedia жанри цих пісень і натренувати нейронку визначати жанр. Потім дані з останнього шару нейронки використовувати як фічі."
   ]
  },
  {
   "cell_type": "code",
   "execution_count": 15,
   "metadata": {
    "collapsed": true
   },
   "outputs": [],
   "source": [
    "train = pd.read_csv(path_to_train, encoding='utf-8')"
   ]
  },
  {
   "cell_type": "code",
   "execution_count": 16,
   "metadata": {
    "collapsed": false
   },
   "outputs": [
    {
     "data": {
      "text/html": [
       "<div>\n",
       "<table border=\"1\" class=\"dataframe\">\n",
       "  <thead>\n",
       "    <tr style=\"text-align: right;\">\n",
       "      <th></th>\n",
       "      <th>genre_id</th>\n",
       "      <th>ts_listen</th>\n",
       "      <th>media_id</th>\n",
       "      <th>album_id</th>\n",
       "      <th>context_type</th>\n",
       "      <th>release_date</th>\n",
       "      <th>platform_name</th>\n",
       "      <th>platform_family</th>\n",
       "      <th>media_duration</th>\n",
       "      <th>listen_type</th>\n",
       "      <th>user_gender</th>\n",
       "      <th>user_id</th>\n",
       "      <th>artist_id</th>\n",
       "      <th>user_age</th>\n",
       "      <th>is_listened</th>\n",
       "    </tr>\n",
       "  </thead>\n",
       "  <tbody>\n",
       "    <tr>\n",
       "      <th>count</th>\n",
       "      <td>7.558834e+06</td>\n",
       "      <td>7.558834e+06</td>\n",
       "      <td>7.558834e+06</td>\n",
       "      <td>7.558834e+06</td>\n",
       "      <td>7.558834e+06</td>\n",
       "      <td>7.558834e+06</td>\n",
       "      <td>7.558834e+06</td>\n",
       "      <td>7.558834e+06</td>\n",
       "      <td>7.558834e+06</td>\n",
       "      <td>7.558834e+06</td>\n",
       "      <td>7.558834e+06</td>\n",
       "      <td>7.558834e+06</td>\n",
       "      <td>7.558834e+06</td>\n",
       "      <td>7.558834e+06</td>\n",
       "      <td>7.558834e+06</td>\n",
       "    </tr>\n",
       "    <tr>\n",
       "      <th>mean</th>\n",
       "      <td>2.245030e+03</td>\n",
       "      <td>1.479011e+09</td>\n",
       "      <td>7.839624e+07</td>\n",
       "      <td>8.136169e+06</td>\n",
       "      <td>2.360018e+00</td>\n",
       "      <td>2.011388e+07</td>\n",
       "      <td>4.731900e-01</td>\n",
       "      <td>2.558086e-01</td>\n",
       "      <td>2.311527e+02</td>\n",
       "      <td>3.068742e-01</td>\n",
       "      <td>3.936884e-01</td>\n",
       "      <td>4.037300e+03</td>\n",
       "      <td>1.500740e+06</td>\n",
       "      <td>2.431278e+01</td>\n",
       "      <td>6.840330e-01</td>\n",
       "    </tr>\n",
       "    <tr>\n",
       "      <th>std</th>\n",
       "      <td>1.308979e+04</td>\n",
       "      <td>1.189935e+07</td>\n",
       "      <td>5.133633e+07</td>\n",
       "      <td>5.460090e+06</td>\n",
       "      <td>4.659856e+00</td>\n",
       "      <td>7.570138e+04</td>\n",
       "      <td>7.353008e-01</td>\n",
       "      <td>5.481663e-01</td>\n",
       "      <td>7.999463e+01</td>\n",
       "      <td>4.611968e-01</td>\n",
       "      <td>4.885672e-01</td>\n",
       "      <td>3.954754e+03</td>\n",
       "      <td>2.519546e+06</td>\n",
       "      <td>3.767797e+00</td>\n",
       "      <td>4.648999e-01</td>\n",
       "    </tr>\n",
       "    <tr>\n",
       "      <th>min</th>\n",
       "      <td>0.000000e+00</td>\n",
       "      <td>1.000000e+00</td>\n",
       "      <td>2.000580e+05</td>\n",
       "      <td>1.976000e+03</td>\n",
       "      <td>0.000000e+00</td>\n",
       "      <td>1.900010e+07</td>\n",
       "      <td>0.000000e+00</td>\n",
       "      <td>0.000000e+00</td>\n",
       "      <td>0.000000e+00</td>\n",
       "      <td>0.000000e+00</td>\n",
       "      <td>0.000000e+00</td>\n",
       "      <td>0.000000e+00</td>\n",
       "      <td>1.000000e+00</td>\n",
       "      <td>1.800000e+01</td>\n",
       "      <td>0.000000e+00</td>\n",
       "    </tr>\n",
       "    <tr>\n",
       "      <th>25%</th>\n",
       "      <td>0.000000e+00</td>\n",
       "      <td>1.478460e+09</td>\n",
       "      <td>1.376614e+07</td>\n",
       "      <td>1.255566e+06</td>\n",
       "      <td>0.000000e+00</td>\n",
       "      <td>2.009123e+07</td>\n",
       "      <td>0.000000e+00</td>\n",
       "      <td>0.000000e+00</td>\n",
       "      <td>1.960000e+02</td>\n",
       "      <td>0.000000e+00</td>\n",
       "      <td>0.000000e+00</td>\n",
       "      <td>8.990000e+02</td>\n",
       "      <td>2.605000e+03</td>\n",
       "      <td>2.100000e+01</td>\n",
       "      <td>0.000000e+00</td>\n",
       "    </tr>\n",
       "    <tr>\n",
       "      <th>50%</th>\n",
       "      <td>3.000000e+00</td>\n",
       "      <td>1.479057e+09</td>\n",
       "      <td>9.380660e+07</td>\n",
       "      <td>9.525626e+06</td>\n",
       "      <td>1.000000e+00</td>\n",
       "      <td>2.014103e+07</td>\n",
       "      <td>0.000000e+00</td>\n",
       "      <td>0.000000e+00</td>\n",
       "      <td>2.220000e+02</td>\n",
       "      <td>0.000000e+00</td>\n",
       "      <td>0.000000e+00</td>\n",
       "      <td>2.738000e+03</td>\n",
       "      <td>1.941720e+05</td>\n",
       "      <td>2.500000e+01</td>\n",
       "      <td>1.000000e+00</td>\n",
       "    </tr>\n",
       "    <tr>\n",
       "      <th>75%</th>\n",
       "      <td>2.700000e+01</td>\n",
       "      <td>1.479742e+09</td>\n",
       "      <td>1.262592e+08</td>\n",
       "      <td>1.329221e+07</td>\n",
       "      <td>2.000000e+00</td>\n",
       "      <td>2.016061e+07</td>\n",
       "      <td>1.000000e+00</td>\n",
       "      <td>0.000000e+00</td>\n",
       "      <td>2.540000e+02</td>\n",
       "      <td>1.000000e+00</td>\n",
       "      <td>1.000000e+00</td>\n",
       "      <td>6.064000e+03</td>\n",
       "      <td>1.519461e+06</td>\n",
       "      <td>2.800000e+01</td>\n",
       "      <td>1.000000e+00</td>\n",
       "    </tr>\n",
       "    <tr>\n",
       "      <th>max</th>\n",
       "      <td>2.597310e+05</td>\n",
       "      <td>1.480636e+09</td>\n",
       "      <td>1.372601e+08</td>\n",
       "      <td>1.472086e+07</td>\n",
       "      <td>7.300000e+01</td>\n",
       "      <td>3.000010e+07</td>\n",
       "      <td>2.000000e+00</td>\n",
       "      <td>2.000000e+00</td>\n",
       "      <td>6.553500e+04</td>\n",
       "      <td>1.000000e+00</td>\n",
       "      <td>1.000000e+00</td>\n",
       "      <td>1.991700e+04</td>\n",
       "      <td>1.144741e+07</td>\n",
       "      <td>3.000000e+01</td>\n",
       "      <td>1.000000e+00</td>\n",
       "    </tr>\n",
       "  </tbody>\n",
       "</table>\n",
       "</div>"
      ],
      "text/plain": [
       "           genre_id     ts_listen      media_id      album_id  context_type  \\\n",
       "count  7.558834e+06  7.558834e+06  7.558834e+06  7.558834e+06  7.558834e+06   \n",
       "mean   2.245030e+03  1.479011e+09  7.839624e+07  8.136169e+06  2.360018e+00   \n",
       "std    1.308979e+04  1.189935e+07  5.133633e+07  5.460090e+06  4.659856e+00   \n",
       "min    0.000000e+00  1.000000e+00  2.000580e+05  1.976000e+03  0.000000e+00   \n",
       "25%    0.000000e+00  1.478460e+09  1.376614e+07  1.255566e+06  0.000000e+00   \n",
       "50%    3.000000e+00  1.479057e+09  9.380660e+07  9.525626e+06  1.000000e+00   \n",
       "75%    2.700000e+01  1.479742e+09  1.262592e+08  1.329221e+07  2.000000e+00   \n",
       "max    2.597310e+05  1.480636e+09  1.372601e+08  1.472086e+07  7.300000e+01   \n",
       "\n",
       "       release_date  platform_name  platform_family  media_duration  \\\n",
       "count  7.558834e+06   7.558834e+06     7.558834e+06    7.558834e+06   \n",
       "mean   2.011388e+07   4.731900e-01     2.558086e-01    2.311527e+02   \n",
       "std    7.570138e+04   7.353008e-01     5.481663e-01    7.999463e+01   \n",
       "min    1.900010e+07   0.000000e+00     0.000000e+00    0.000000e+00   \n",
       "25%    2.009123e+07   0.000000e+00     0.000000e+00    1.960000e+02   \n",
       "50%    2.014103e+07   0.000000e+00     0.000000e+00    2.220000e+02   \n",
       "75%    2.016061e+07   1.000000e+00     0.000000e+00    2.540000e+02   \n",
       "max    3.000010e+07   2.000000e+00     2.000000e+00    6.553500e+04   \n",
       "\n",
       "        listen_type   user_gender       user_id     artist_id      user_age  \\\n",
       "count  7.558834e+06  7.558834e+06  7.558834e+06  7.558834e+06  7.558834e+06   \n",
       "mean   3.068742e-01  3.936884e-01  4.037300e+03  1.500740e+06  2.431278e+01   \n",
       "std    4.611968e-01  4.885672e-01  3.954754e+03  2.519546e+06  3.767797e+00   \n",
       "min    0.000000e+00  0.000000e+00  0.000000e+00  1.000000e+00  1.800000e+01   \n",
       "25%    0.000000e+00  0.000000e+00  8.990000e+02  2.605000e+03  2.100000e+01   \n",
       "50%    0.000000e+00  0.000000e+00  2.738000e+03  1.941720e+05  2.500000e+01   \n",
       "75%    1.000000e+00  1.000000e+00  6.064000e+03  1.519461e+06  2.800000e+01   \n",
       "max    1.000000e+00  1.000000e+00  1.991700e+04  1.144741e+07  3.000000e+01   \n",
       "\n",
       "        is_listened  \n",
       "count  7.558834e+06  \n",
       "mean   6.840330e-01  \n",
       "std    4.648999e-01  \n",
       "min    0.000000e+00  \n",
       "25%    0.000000e+00  \n",
       "50%    1.000000e+00  \n",
       "75%    1.000000e+00  \n",
       "max    1.000000e+00  "
      ]
     },
     "execution_count": 16,
     "metadata": {},
     "output_type": "execute_result"
    }
   ],
   "source": [
    "train.describe()"
   ]
  },
  {
   "cell_type": "code",
   "execution_count": 19,
   "metadata": {
    "collapsed": false
   },
   "outputs": [
    {
     "data": {
      "text/plain": [
       "2922"
      ]
     },
     "execution_count": 19,
     "metadata": {},
     "output_type": "execute_result"
    }
   ],
   "source": [
    "len(train[\"genre_id\"].unique())"
   ]
  },
  {
   "cell_type": "code",
   "execution_count": 20,
   "metadata": {
    "collapsed": false
   },
   "outputs": [
    {
     "data": {
      "text/plain": [
       "74"
      ]
     },
     "execution_count": 20,
     "metadata": {},
     "output_type": "execute_result"
    }
   ],
   "source": [
    "len(train[\"context_type\"].unique()) # цікаво, що це за контексти?"
   ]
  },
  {
   "cell_type": "code",
   "execution_count": 21,
   "metadata": {
    "collapsed": false
   },
   "outputs": [
    {
     "data": {
      "text/plain": [
       "3"
      ]
     },
     "execution_count": 21,
     "metadata": {},
     "output_type": "execute_result"
    }
   ],
   "source": [
    "len(train[\"platform_name\"].unique()) # PC, smartphone, tablet?"
   ]
  },
  {
   "cell_type": "code",
   "execution_count": 22,
   "metadata": {
    "collapsed": false
   },
   "outputs": [
    {
     "data": {
      "text/plain": [
       "3"
      ]
     },
     "execution_count": 22,
     "metadata": {},
     "output_type": "execute_result"
    }
   ],
   "source": [
    "len(train[\"platform_family\"].unique()) # Windows, android, iOS?"
   ]
  },
  {
   "cell_type": "code",
   "execution_count": 25,
   "metadata": {
    "collapsed": false
   },
   "outputs": [
    {
     "data": {
      "text/plain": [
       "<matplotlib.axes._subplots.AxesSubplot at 0xb4ce685c88>"
      ]
     },
     "execution_count": 25,
     "metadata": {},
     "output_type": "execute_result"
    },
    {
     "data": {
      "image/png": "[encoded data removed]",
      "text/plain": [
       "<matplotlib.figure.Figure at 0xb4ce2484a8>"
      ]
     },
     "metadata": {},
     "output_type": "display_data"
    }
   ],
   "source": [
    "import matplotlib.pyplot as plt\n",
    "%matplotlib inline\n",
    "train[\"media_duration\"].hist(bins=100)"
   ]
  },
  {
   "cell_type": "markdown",
   "metadata": {},
   "source": [
    "Дуже дивно виглядає `media_duration`, наче є якісь супер аутлаєри. Може це якісь аудіо книги?"
   ]
  },
  {
   "cell_type": "code",
   "execution_count": 27,
   "metadata": {
    "collapsed": false
   },
   "outputs": [
    {
     "data": {
      "text/plain": [
       "count    7.558834e+06\n",
       "mean     2.311527e+02\n",
       "std      7.999463e+01\n",
       "min      0.000000e+00\n",
       "25%      1.960000e+02\n",
       "50%      2.220000e+02\n",
       "75%      2.540000e+02\n",
       "max      6.553500e+04\n",
       "Name: media_duration, dtype: float64"
      ]
     },
     "execution_count": 27,
     "metadata": {},
     "output_type": "execute_result"
    }
   ],
   "source": [
    "train[\"media_duration\"].describe() "
   ]
  },
  {
   "cell_type": "code",
   "execution_count": 41,
   "metadata": {
    "collapsed": false
   },
   "outputs": [
    {
     "data": {
      "text/plain": [
       "<matplotlib.axes._subplots.AxesSubplot at 0xb49b2ca550>"
      ]
     },
     "execution_count": 41,
     "metadata": {},
     "output_type": "execute_result"
    },
    {
     "data": {
      "image/png": "[encoded data removed]",
      "text/plain": [
       "<matplotlib.figure.Figure at 0xb49b660dd8>"
      ]
     },
     "metadata": {},
     "output_type": "display_data"
    }
   ],
   "source": [
    "limit = 10000\n",
    "outliers = train[train['media_duration'] > limit]\n",
    "outliers['media_duration'].hist(bins=20)"
   ]
  },
  {
   "cell_type": "code",
   "execution_count": 40,
   "metadata": {
    "collapsed": false
   },
   "outputs": [
    {
     "data": {
      "text/plain": [
       "446.0"
      ]
     },
     "execution_count": 40,
     "metadata": {},
     "output_type": "execute_result"
    }
   ],
   "source": [
    "limit"
   ]
  },
  {
   "cell_type": "code",
   "execution_count": 42,
   "metadata": {
    "collapsed": false
   },
   "outputs": [
    {
     "data": {
      "text/plain": [
       "4243646    65535\n",
       "5079844    65535\n",
       "Name: media_duration, dtype: int64"
      ]
     },
     "execution_count": 42,
     "metadata": {},
     "output_type": "execute_result"
    }
   ],
   "source": [
    "outliers['media_duration']"
   ]
  },
  {
   "cell_type": "code",
   "execution_count": null,
   "metadata": {
    "collapsed": true
   },
   "outputs": [],
   "source": []
  }
 ],
 "metadata": {
  "kernelspec": {
   "display_name": "Python [py35]",
   "language": "python",
   "name": "Python [py35]"
  },
  "language_info": {
   "codemirror_mode": {
    "name": "ipython",
    "version": 3
   },
   "file_extension": ".py",
   "mimetype": "text/x-python",
   "name": "python",
   "nbconvert_exporter": "python",
   "pygments_lexer": "ipython3",
   "version": "3.5.2"
  }
 },
 "nbformat": 4,
 "nbformat_minor": 0
}
