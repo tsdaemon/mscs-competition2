{
 "cells": [
  {
   "cell_type": "code",
   "execution_count": 2,
   "metadata": {
    "collapsed": false
   },
   "outputs": [],
   "source": [
    "import pandas as pd\n",
    "import data_utils as du\n",
    "\n",
    "path_to_media = './data/extra_infos.json'\n",
    "path_to_train = './data/train.csv'"
   ]
  },
  {
   "cell_type": "code",
   "execution_count": 3,
   "metadata": {
    "collapsed": false
   },
   "outputs": [
    {
     "data": {
      "text/html": [
       "<div>\n",
       "<table border=\"1\" class=\"dataframe\">\n",
       "  <thead>\n",
       "    <tr style=\"text-align: right;\">\n",
       "      <th></th>\n",
       "      <th>alb_title</th>\n",
       "      <th>art_name</th>\n",
       "      <th>media_id</th>\n",
       "      <th>sng_title</th>\n",
       "    </tr>\n",
       "  </thead>\n",
       "  <tbody>\n",
       "    <tr>\n",
       "      <th>0</th>\n",
       "      <td>El Son de Cuba</td>\n",
       "      <td>Septeto Nacional De Ignacio Pineiro</td>\n",
       "      <td>213952</td>\n",
       "      <td>Maria Cristina</td>\n",
       "    </tr>\n",
       "    <tr>\n",
       "      <th>1</th>\n",
       "      <td>Sounds from the fourth world</td>\n",
       "      <td>Calvin Russell</td>\n",
       "      <td>223014</td>\n",
       "      <td>Love stealer</td>\n",
       "    </tr>\n",
       "    <tr>\n",
       "      <th>2</th>\n",
       "      <td>Le meilleur de Malavoi</td>\n",
       "      <td>Malavoi</td>\n",
       "      <td>237198</td>\n",
       "      <td>Caressé moin</td>\n",
       "    </tr>\n",
       "    <tr>\n",
       "      <th>3</th>\n",
       "      <td>Les titres essentiels Cuba</td>\n",
       "      <td>Soneros De Verdad</td>\n",
       "      <td>238380</td>\n",
       "      <td>A Buena Vista</td>\n",
       "    </tr>\n",
       "    <tr>\n",
       "      <th>4</th>\n",
       "      <td>Dantzig Twist</td>\n",
       "      <td>Marquis de Sade</td>\n",
       "      <td>244881</td>\n",
       "      <td>Nacht und Nebel</td>\n",
       "    </tr>\n",
       "  </tbody>\n",
       "</table>\n",
       "</div>"
      ],
      "text/plain": [
       "                      alb_title                             art_name  \\\n",
       "0                El Son de Cuba  Septeto Nacional De Ignacio Pineiro   \n",
       "1  Sounds from the fourth world                       Calvin Russell   \n",
       "2        Le meilleur de Malavoi                              Malavoi   \n",
       "3    Les titres essentiels Cuba                    Soneros De Verdad   \n",
       "4                 Dantzig Twist                      Marquis de Sade   \n",
       "\n",
       "   media_id        sng_title  \n",
       "0    213952   Maria Cristina  \n",
       "1    223014     Love stealer  \n",
       "2    237198     Caressé moin  \n",
       "3    238380    A Buena Vista  \n",
       "4    244881  Nacht und Nebel  "
      ]
     },
     "execution_count": 3,
     "metadata": {},
     "output_type": "execute_result"
    }
   ],
   "source": [
    "media_info = du.json_to_pandas(path_to_media)\n",
    "media_info.head()"
   ]
  },
  {
   "cell_type": "code",
   "execution_count": 4,
   "metadata": {
    "collapsed": false
   },
   "outputs": [
    {
     "data": {
      "text/html": [
       "<div>\n",
       "<table border=\"1\" class=\"dataframe\">\n",
       "  <thead>\n",
       "    <tr style=\"text-align: right;\">\n",
       "      <th></th>\n",
       "      <th>genre_id</th>\n",
       "      <th>ts_listen</th>\n",
       "      <th>media_id</th>\n",
       "      <th>album_id</th>\n",
       "      <th>context_type</th>\n",
       "      <th>release_date</th>\n",
       "      <th>platform_name</th>\n",
       "      <th>platform_family</th>\n",
       "      <th>media_duration</th>\n",
       "      <th>listen_type</th>\n",
       "      <th>user_gender</th>\n",
       "      <th>user_id</th>\n",
       "      <th>artist_id</th>\n",
       "      <th>user_age</th>\n",
       "      <th>is_listened</th>\n",
       "    </tr>\n",
       "  </thead>\n",
       "  <tbody>\n",
       "    <tr>\n",
       "      <th>0</th>\n",
       "      <td>25471</td>\n",
       "      <td>1480597215</td>\n",
       "      <td>222606</td>\n",
       "      <td>41774</td>\n",
       "      <td>12</td>\n",
       "      <td>20040704</td>\n",
       "      <td>1</td>\n",
       "      <td>0</td>\n",
       "      <td>223</td>\n",
       "      <td>0</td>\n",
       "      <td>0</td>\n",
       "      <td>9241</td>\n",
       "      <td>55164</td>\n",
       "      <td>29</td>\n",
       "      <td>0</td>\n",
       "    </tr>\n",
       "    <tr>\n",
       "      <th>1</th>\n",
       "      <td>25571</td>\n",
       "      <td>1480544735</td>\n",
       "      <td>250467</td>\n",
       "      <td>43941</td>\n",
       "      <td>0</td>\n",
       "      <td>20060301</td>\n",
       "      <td>2</td>\n",
       "      <td>1</td>\n",
       "      <td>171</td>\n",
       "      <td>0</td>\n",
       "      <td>0</td>\n",
       "      <td>16547</td>\n",
       "      <td>55830</td>\n",
       "      <td>30</td>\n",
       "      <td>1</td>\n",
       "    </tr>\n",
       "    <tr>\n",
       "      <th>2</th>\n",
       "      <td>16</td>\n",
       "      <td>1479563953</td>\n",
       "      <td>305197</td>\n",
       "      <td>48078</td>\n",
       "      <td>1</td>\n",
       "      <td>20140714</td>\n",
       "      <td>2</td>\n",
       "      <td>1</td>\n",
       "      <td>149</td>\n",
       "      <td>1</td>\n",
       "      <td>1</td>\n",
       "      <td>7665</td>\n",
       "      <td>2704</td>\n",
       "      <td>29</td>\n",
       "      <td>1</td>\n",
       "    </tr>\n",
       "    <tr>\n",
       "      <th>3</th>\n",
       "      <td>7</td>\n",
       "      <td>1480152098</td>\n",
       "      <td>900502</td>\n",
       "      <td>71521</td>\n",
       "      <td>0</td>\n",
       "      <td>20001030</td>\n",
       "      <td>0</td>\n",
       "      <td>0</td>\n",
       "      <td>240</td>\n",
       "      <td>0</td>\n",
       "      <td>1</td>\n",
       "      <td>1580</td>\n",
       "      <td>938</td>\n",
       "      <td>30</td>\n",
       "      <td>0</td>\n",
       "    </tr>\n",
       "    <tr>\n",
       "      <th>4</th>\n",
       "      <td>7</td>\n",
       "      <td>1478368974</td>\n",
       "      <td>542335</td>\n",
       "      <td>71718</td>\n",
       "      <td>0</td>\n",
       "      <td>20080215</td>\n",
       "      <td>0</td>\n",
       "      <td>0</td>\n",
       "      <td>150</td>\n",
       "      <td>0</td>\n",
       "      <td>1</td>\n",
       "      <td>1812</td>\n",
       "      <td>2939</td>\n",
       "      <td>24</td>\n",
       "      <td>1</td>\n",
       "    </tr>\n",
       "  </tbody>\n",
       "</table>\n",
       "</div>"
      ],
      "text/plain": [
       "   genre_id   ts_listen  media_id  album_id  context_type  release_date  \\\n",
       "0     25471  1480597215    222606     41774            12      20040704   \n",
       "1     25571  1480544735    250467     43941             0      20060301   \n",
       "2        16  1479563953    305197     48078             1      20140714   \n",
       "3         7  1480152098    900502     71521             0      20001030   \n",
       "4         7  1478368974    542335     71718             0      20080215   \n",
       "\n",
       "   platform_name  platform_family  media_duration  listen_type  user_gender  \\\n",
       "0              1                0             223            0            0   \n",
       "1              2                1             171            0            0   \n",
       "2              2                1             149            1            1   \n",
       "3              0                0             240            0            1   \n",
       "4              0                0             150            0            1   \n",
       "\n",
       "   user_id  artist_id  user_age  is_listened  \n",
       "0     9241      55164        29            0  \n",
       "1    16547      55830        30            1  \n",
       "2     7665       2704        29            1  \n",
       "3     1580        938        30            0  \n",
       "4     1812       2939        24            1  "
      ]
     },
     "execution_count": 4,
     "metadata": {},
     "output_type": "execute_result"
    }
   ],
   "source": [
    "train = pd.read_csv(path_to_train, encoding='utf-8')\n",
    "train.head()"
   ]
  },
  {
   "cell_type": "code",
   "execution_count": 5,
   "metadata": {
    "collapsed": false
   },
   "outputs": [
    {
     "data": {
      "text/plain": [
       "67142"
      ]
     },
     "execution_count": 5,
     "metadata": {},
     "output_type": "execute_result"
    }
   ],
   "source": [
    "by_artist = train.groupby(['artist_id'], as_index=False).agg({'media_id' : 'count'})\n",
    "len(by_artist)"
   ]
  },
  {
   "cell_type": "markdown",
   "metadata": {},
   "source": [
    "Є три типи колонок. Є інформація про користувача: `user_gender`, `user_age`. Є інформація про пісню: назва, альбом, виконавець, `genre_id`, `release_date`, `media_duration`. Є інформація про конкретне прослуховування: `ts_listen`, `platform_name`, `platform_family`, `listen_type`.\n",
    "\n",
    "Що звідки ми можемо витягнути? Час доби. Чи слухає користувач flow взагалі. \n",
    "\n",
    "Як можна кластеризувати користувачів? Скільки разів він слухав кожен з жанрів (порахувати кількість жанрів). В який час любить слухати музику (вечір, робочий час, вихідні). В якому контексті скільки разів він слухав музику. З якої платформи скільки разів він слухав музику. Чи використовує він Flow. І, найскладніше, за спільними музичними уподобаннями.\n",
    "\n",
    "Для останнього можна спробувати аналіз графа."
   ]
  },
  {
   "cell_type": "markdown",
   "metadata": {},
   "source": [
    "#### Питання 1\n",
    "Чи є розшифровка закодованних полів? (`platform_name`, `platform_family` etc)"
   ]
  },
  {
   "cell_type": "markdown",
   "metadata": {},
   "source": [
    "#### Feature idea 1 (+++)\n",
    "Можна з назви пісні, альбома, імені виконавця витащити мову, на якій ця пісня. 100% це буде важлива фіча.\n",
    "#### Feature idea 2 (+)\n",
    "Можна взяти як фічу час доби.\n",
    "#### Feature idea 3 (++++++)\n",
    "Порівнювати музику за допомогою DBPedia https://link.springer.com/chapter/10.1007%2F978-3-642-13489-0_34?LI=true\n",
    "#### Feature idea 4 (++)\n",
    "Побудувати граф по цих данних і визначати відстань від пісні до користувача.\n",
    "#### Feature idea 5 (+++++)\n",
    "Витащити з DBPedia жанри цих пісень і натренувати нейронку визначати жанр. Потім дані з останнього шару нейронки використовувати як фічі."
   ]
  },
  {
   "cell_type": "code",
   "execution_count": 24,
   "metadata": {
    "collapsed": true
   },
   "outputs": [],
   "source": [
    "train = pd.read_csv(path_to_train, encoding='utf-8')"
   ]
  },
  {
   "cell_type": "code",
   "execution_count": 25,
   "metadata": {
    "collapsed": false
   },
   "outputs": [
    {
     "data": {
      "text/plain": [
       "2922"
      ]
     },
     "execution_count": 25,
     "metadata": {},
     "output_type": "execute_result"
    }
   ],
   "source": [
    "len(train[\"genre_id\"].unique())"
   ]
  },
  {
   "cell_type": "code",
   "execution_count": 26,
   "metadata": {
    "collapsed": false
   },
   "outputs": [
    {
     "data": {
      "text/plain": [
       "19918"
      ]
     },
     "execution_count": 26,
     "metadata": {},
     "output_type": "execute_result"
    }
   ],
   "source": [
    "len(train[\"user_id\"].unique())"
   ]
  },
  {
   "cell_type": "code",
   "execution_count": 27,
   "metadata": {
    "collapsed": false
   },
   "outputs": [
    {
     "data": {
      "text/plain": [
       "74"
      ]
     },
     "execution_count": 27,
     "metadata": {},
     "output_type": "execute_result"
    }
   ],
   "source": [
    "len(train[\"context_type\"].unique()) # цікаво, що це за контексти?"
   ]
  },
  {
   "cell_type": "code",
   "execution_count": 28,
   "metadata": {
    "collapsed": false
   },
   "outputs": [
    {
     "data": {
      "text/plain": [
       "3"
      ]
     },
     "execution_count": 28,
     "metadata": {},
     "output_type": "execute_result"
    }
   ],
   "source": [
    "len(train[\"platform_name\"].unique()) # PC, smartphone, tablet?"
   ]
  },
  {
   "cell_type": "code",
   "execution_count": 29,
   "metadata": {
    "collapsed": false
   },
   "outputs": [
    {
     "data": {
      "text/plain": [
       "3"
      ]
     },
     "execution_count": 29,
     "metadata": {},
     "output_type": "execute_result"
    }
   ],
   "source": [
    "len(train[\"platform_family\"].unique()) # Windows, android, iOS?"
   ]
  },
  {
   "cell_type": "code",
   "execution_count": 30,
   "metadata": {
    "collapsed": false
   },
   "outputs": [
    {
     "data": {
      "text/plain": [
       "<matplotlib.axes._subplots.AxesSubplot at 0xcf83855a90>"
      ]
     },
     "execution_count": 30,
     "metadata": {},
     "output_type": "execute_result"
    },
    {
     "data": {
      "image/png": "[encoded data removed]",
      "text/plain": [
       "<matplotlib.figure.Figure at 0xcfce713320>"
      ]
     },
     "metadata": {},
     "output_type": "display_data"
    }
   ],
   "source": [
    "import matplotlib.pyplot as plt\n",
    "%matplotlib inline\n",
    "train[\"media_duration\"].hist(bins=100)"
   ]
  },
  {
   "cell_type": "markdown",
   "metadata": {},
   "source": [
    "Дуже дивно виглядає `media_duration`, наче є якісь супер аутлаєри. Може це якісь аудіо книги?"
   ]
  },
  {
   "cell_type": "code",
   "execution_count": 31,
   "metadata": {
    "collapsed": false
   },
   "outputs": [
    {
     "data": {
      "text/plain": [
       "count    7.558834e+06\n",
       "mean     2.311527e+02\n",
       "std      7.999463e+01\n",
       "min      0.000000e+00\n",
       "25%      1.960000e+02\n",
       "50%      2.220000e+02\n",
       "75%      2.540000e+02\n",
       "max      6.553500e+04\n",
       "Name: media_duration, dtype: float64"
      ]
     },
     "execution_count": 31,
     "metadata": {},
     "output_type": "execute_result"
    }
   ],
   "source": [
    "train[\"media_duration\"].describe() "
   ]
  },
  {
   "cell_type": "code",
   "execution_count": 32,
   "metadata": {
    "collapsed": false
   },
   "outputs": [
    {
     "data": {
      "text/plain": [
       "<matplotlib.axes._subplots.AxesSubplot at 0xcf80b7e668>"
      ]
     },
     "execution_count": 32,
     "metadata": {},
     "output_type": "execute_result"
    },
    {
     "data": {
      "image/png": "[encoded data removed]",
      "text/plain": [
       "<matplotlib.figure.Figure at 0xcf817ef5c0>"
      ]
     },
     "metadata": {},
     "output_type": "display_data"
    }
   ],
   "source": [
    "limit = 1000\n",
    "outliers = train[train['media_duration'] < limit]\n",
    "outliers['media_duration'].hist(bins=100)"
   ]
  },
  {
   "cell_type": "code",
   "execution_count": 33,
   "metadata": {
    "collapsed": false
   },
   "outputs": [
    {
     "data": {
      "text/plain": [
       "0          223\n",
       "1          171\n",
       "2          149\n",
       "3          240\n",
       "4          150\n",
       "5          150\n",
       "6          150\n",
       "7          150\n",
       "8          150\n",
       "9          150\n",
       "10         150\n",
       "11         150\n",
       "12         188\n",
       "13         150\n",
       "14         150\n",
       "15         150\n",
       "16         150\n",
       "17         150\n",
       "18         150\n",
       "19         150\n",
       "20         150\n",
       "21         150\n",
       "22         150\n",
       "23         150\n",
       "24         150\n",
       "25         197\n",
       "26         210\n",
       "27         188\n",
       "28         150\n",
       "29         150\n",
       "          ... \n",
       "7558804    268\n",
       "7558805    268\n",
       "7558806    268\n",
       "7558807    268\n",
       "7558808    268\n",
       "7558809    268\n",
       "7558810    268\n",
       "7558811    268\n",
       "7558812    268\n",
       "7558813    268\n",
       "7558814    268\n",
       "7558815    268\n",
       "7558816    268\n",
       "7558817    268\n",
       "7558818    268\n",
       "7558819    268\n",
       "7558820    268\n",
       "7558821    268\n",
       "7558822    268\n",
       "7558823    268\n",
       "7558824    268\n",
       "7558825    268\n",
       "7558826    268\n",
       "7558827    268\n",
       "7558828    268\n",
       "7558829    268\n",
       "7558830    974\n",
       "7558831    175\n",
       "7558832    126\n",
       "7558833    177\n",
       "Name: media_duration, dtype: int64"
      ]
     },
     "execution_count": 33,
     "metadata": {},
     "output_type": "execute_result"
    }
   ],
   "source": [
    "outliers['media_duration']"
   ]
  },
  {
   "cell_type": "code",
   "execution_count": 34,
   "metadata": {
    "collapsed": false
   },
   "outputs": [
    {
     "data": {
      "text/plain": [
       "7556062"
      ]
     },
     "execution_count": 34,
     "metadata": {},
     "output_type": "execute_result"
    }
   ],
   "source": [
    "len(outliers['media_duration']) # це явно аудіо книги"
   ]
  },
  {
   "cell_type": "code",
   "execution_count": 35,
   "metadata": {
    "collapsed": false
   },
   "outputs": [
    {
     "name": "stderr",
     "output_type": "stream",
     "text": [
      "C:\\Users\\Anatoliy\\Anaconda2\\envs\\py35\\lib\\site-packages\\ipykernel\\__main__.py:1: UserWarning: Boolean Series key will be reindexed to match DataFrame index.\n",
      "  if __name__ == '__main__':\n"
     ]
    },
    {
     "data": {
      "text/plain": [
       "<matplotlib.axes._subplots.AxesSubplot at 0xcf81d94ac8>"
      ]
     },
     "execution_count": 35,
     "metadata": {},
     "output_type": "execute_result"
    },
    {
     "data": {
      "image/png": "[encoded data removed]",
      "text/plain": [
       "<matplotlib.figure.Figure at 0xcf81c47be0>"
      ]
     },
     "metadata": {},
     "output_type": "display_data"
    }
   ],
   "source": [
    "train[train['media_duration'] > 500][train['media_duration'] < 2000][\"media_duration\"].hist(bins=200)"
   ]
  },
  {
   "cell_type": "code",
   "execution_count": 36,
   "metadata": {
    "collapsed": false
   },
   "outputs": [
    {
     "data": {
      "text/plain": [
       "genre_id                  109\n",
       "ts_listen          1478809731\n",
       "media_id             12092135\n",
       "album_id              1109711\n",
       "context_type                0\n",
       "release_date         20051231\n",
       "platform_name               1\n",
       "platform_family             0\n",
       "media_duration           2822\n",
       "listen_type                 0\n",
       "user_gender                 1\n",
       "user_id                 13389\n",
       "artist_id              191083\n",
       "user_age                   25\n",
       "is_listened                 0\n",
       "Name: 8341, dtype: int64"
      ]
     },
     "execution_count": 36,
     "metadata": {},
     "output_type": "execute_result"
    }
   ],
   "source": [
    "# подивимося назву\n",
    "media1 = train[train['media_duration'] > 1000].iloc[0]\n",
    "media1"
   ]
  },
  {
   "cell_type": "code",
   "execution_count": 37,
   "metadata": {
    "collapsed": false
   },
   "outputs": [
    {
     "data": {
      "text/html": [
       "<div>\n",
       "<table border=\"1\" class=\"dataframe\">\n",
       "  <thead>\n",
       "    <tr style=\"text-align: right;\">\n",
       "      <th></th>\n",
       "      <th>alb_title</th>\n",
       "      <th>art_name</th>\n",
       "      <th>media_id</th>\n",
       "      <th>sng_title</th>\n",
       "    </tr>\n",
       "  </thead>\n",
       "  <tbody>\n",
       "    <tr>\n",
       "      <th>157043</th>\n",
       "      <td>Opera in the Outback</td>\n",
       "      <td>Nessun Dorma</td>\n",
       "      <td>12092135</td>\n",
       "      <td>Nessun Dorma</td>\n",
       "    </tr>\n",
       "  </tbody>\n",
       "</table>\n",
       "</div>"
      ],
      "text/plain": [
       "                   alb_title      art_name  media_id     sng_title\n",
       "157043  Opera in the Outback  Nessun Dorma  12092135  Nessun Dorma"
      ]
     },
     "execution_count": 37,
     "metadata": {},
     "output_type": "execute_result"
    }
   ],
   "source": [
    "media_info[media_info[\"media_id\"] == media1[\"media_id\"]] # ні, це опера!"
   ]
  },
  {
   "cell_type": "code",
   "execution_count": 38,
   "metadata": {
    "collapsed": false
   },
   "outputs": [
    {
     "data": {
      "text/html": [
       "<div>\n",
       "<table border=\"1\" class=\"dataframe\">\n",
       "  <thead>\n",
       "    <tr style=\"text-align: right;\">\n",
       "      <th></th>\n",
       "      <th>alb_title</th>\n",
       "      <th>art_name</th>\n",
       "      <th>media_id</th>\n",
       "      <th>sng_title</th>\n",
       "    </tr>\n",
       "  </thead>\n",
       "  <tbody>\n",
       "    <tr>\n",
       "      <th>377284</th>\n",
       "      <td>Fear And Loathing</td>\n",
       "      <td>Luke Slater</td>\n",
       "      <td>38545391</td>\n",
       "      <td>Fear And Loathing - Part 1 (Continuous DJ Mix)</td>\n",
       "    </tr>\n",
       "  </tbody>\n",
       "</table>\n",
       "</div>"
      ],
      "text/plain": [
       "                alb_title     art_name  media_id  \\\n",
       "377284  Fear And Loathing  Luke Slater  38545391   \n",
       "\n",
       "                                             sng_title  \n",
       "377284  Fear And Loathing - Part 1 (Continuous DJ Mix)  "
      ]
     },
     "execution_count": 38,
     "metadata": {},
     "output_type": "execute_result"
    }
   ],
   "source": [
    "media2 = train[train['media_duration'] > 3000].iloc[0]\n",
    "media_info[media_info[\"media_id\"] == media2[\"media_id\"]] # а це вже аудіокниги, страх та ненависть"
   ]
  },
  {
   "cell_type": "code",
   "execution_count": 39,
   "metadata": {
    "collapsed": false
   },
   "outputs": [
    {
     "data": {
      "text/plain": [
       "27"
      ]
     },
     "execution_count": 39,
     "metadata": {},
     "output_type": "execute_result"
    }
   ],
   "source": [
    "media2[\"genre_id\"]"
   ]
  },
  {
   "cell_type": "code",
   "execution_count": 40,
   "metadata": {
    "collapsed": false
   },
   "outputs": [
    {
     "data": {
      "text/plain": [
       "187946"
      ]
     },
     "execution_count": 40,
     "metadata": {},
     "output_type": "execute_result"
    }
   ],
   "source": [
    "len(train[train[\"genre_id\"] == 27])"
   ]
  },
  {
   "cell_type": "code",
   "execution_count": 41,
   "metadata": {
    "collapsed": false
   },
   "outputs": [
    {
     "data": {
      "text/plain": [
       "<matplotlib.axes._subplots.AxesSubplot at 0xcf8308ad68>"
      ]
     },
     "execution_count": 41,
     "metadata": {},
     "output_type": "execute_result"
    },
    {
     "data": {
      "image/png": "[encoded data removed]",
      "text/plain": [
       "<matplotlib.figure.Figure at 0xcf82cf0d68>"
      ]
     },
     "metadata": {},
     "output_type": "display_data"
    }
   ],
   "source": [
    "by_user = train.groupby(\"user_id\").agg({'genre_id': 'count'})\n",
    "by_user['count'] = by_user['genre_id']\n",
    "del by_user['genre_id']\n",
    "by_user.plot()"
   ]
  },
  {
   "cell_type": "code",
   "execution_count": 45,
   "metadata": {
    "collapsed": false
   },
   "outputs": [
    {
     "data": {
      "text/plain": [
       "1815"
      ]
     },
     "execution_count": 45,
     "metadata": {},
     "output_type": "execute_result"
    }
   ],
   "source": [
    "len(by_user[by_user['count'] < 20])"
   ]
  },
  {
   "cell_type": "code",
   "execution_count": 43,
   "metadata": {
    "collapsed": false
   },
   "outputs": [
    {
     "data": {
      "text/plain": [
       "6240"
      ]
     },
     "execution_count": 43,
     "metadata": {},
     "output_type": "execute_result"
    }
   ],
   "source": [
    "len(train[train[\"user_id\"]==1])"
   ]
  },
  {
   "cell_type": "code",
   "execution_count": null,
   "metadata": {
    "collapsed": true
   },
   "outputs": [],
   "source": []
  }
 ],
 "metadata": {
  "kernelspec": {
   "display_name": "Python [py35]",
   "language": "python",
   "name": "Python [py35]"
  },
  "language_info": {
   "codemirror_mode": {
    "name": "ipython",
    "version": 3
   },
   "file_extension": ".py",
   "mimetype": "text/x-python",
   "name": "python",
   "nbconvert_exporter": "python",
   "pygments_lexer": "ipython3",
   "version": "3.5.2"
  }
 },
 "nbformat": 4,
 "nbformat_minor": 0
}
