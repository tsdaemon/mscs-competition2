{
 "cells": [
  {
   "cell_type": "markdown",
   "metadata": {},
   "source": [
    "Спочатку треба розбити датасет на train, validation, test. Для цього будемо обирати останній запис з кожного користувача. Я розділю датасет на дві частини: користувачі з >3 записів, користувачі з 3 і менше записів. Так як в тестовому датасеті у нас є користувачі з дуже малою кількістю записів, буде цікаво перевірити, як добре працює у нас zero-shot learning. Тобто в validation set підуть три останні записи користувача, і для тих, у кого 3 і менше записів це буде означати, що модель взагалі на них не тренується. Але це добре, бо ми перевіримо якість моделі для zero-shot learning."
   ]
  },
  {
   "cell_type": "code",
   "execution_count": null,
   "metadata": {
    "collapsed": true
   },
   "outputs": [],
   "source": []
  }
 ],
 "metadata": {
  "anaconda-cloud": {},
  "kernelspec": {
   "display_name": "Python 2",
   "language": "python",
   "name": "python2"
  },
  "language_info": {
   "codemirror_mode": {
    "name": "ipython",
    "version": 2
   },
   "file_extension": ".py",
   "mimetype": "text/x-python",
   "name": "python",
   "nbconvert_exporter": "python",
   "pygments_lexer": "ipython2",
   "version": "2.7.12"
  }
 },
 "nbformat": 4,
 "nbformat_minor": 0
}
