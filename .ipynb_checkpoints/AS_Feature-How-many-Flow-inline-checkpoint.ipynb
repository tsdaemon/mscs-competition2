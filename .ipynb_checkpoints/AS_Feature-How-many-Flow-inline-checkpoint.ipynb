{
 "cells": [
  {
   "cell_type": "code",
   "execution_count": null,
   "metadata": {
    "collapsed": false
   },
   "outputs": [],
   "source": [
    "import pandas as pd\n",
    "\n",
    "path_to_train = './data/train.csv'\n",
    "path_to_test = './data/test.csv'\n",
    "\n",
    "train = pd.read_csv(path_to_train, encoding='utf-8', usecols=['user_id', 'ts_listen', 'listen_type'])\n",
    "test = pd.read_csv(path_to_test, encoding='utf-8', usecols=['user_id', 'ts_listen', 'listen_type'])\n",
    "\n",
    "df = pd.concat([train, test])\n",
    "df.head()"
   ]
  },
  {
   "cell_type": "code",
   "execution_count": null,
   "metadata": {
    "collapsed": false
   },
   "outputs": [],
   "source": [
    "df = df.sort_values(by=['user_id', 'ts_listen'], axis=0)\n",
    "df.tail()"
   ]
  },
  {
   "cell_type": "code",
   "execution_count": null,
   "metadata": {
    "collapsed": false
   },
   "outputs": [],
   "source": [
    "counter = 0\n",
    "prev_user = 0\n",
    "prev_listen_type = 0\n",
    "\n",
    "def inline_iterate(row):\n",
    "    #row = tp[1]\n",
    "    global counter, prev_user, prev_listen_type\n",
    "    \n",
    "    if(row['listen_type'] != prev_listen_type):\n",
    "        prev_listen_type = row['listen_type']\n",
    "        counter = 0\n",
    "        \n",
    "    if(row['user_id'] != prev_user):\n",
    "        prev_user = row['user_id']\n",
    "        counter = 0\n",
    "    \n",
    "    if(counter < 10):\n",
    "        counter += 1\n",
    "        \n",
    "    return counter\n",
    "\n",
    "inline = [inline_iterate(row) for index,row in df.iterrows()]\n",
    "#inline = list(map(inline_iterate, df.iterrows()))\n",
    "inline"
   ]
  }
 ],
 "metadata": {
  "anaconda-cloud": {},
  "kernelspec": {
   "display_name": "Python [py35]",
   "language": "python",
   "name": "Python [py35]"
  },
  "language_info": {
   "codemirror_mode": {
    "name": "ipython",
    "version": 3
   },
   "file_extension": ".py",
   "mimetype": "text/x-python",
   "name": "python",
   "nbconvert_exporter": "python",
   "pygments_lexer": "ipython3",
   "version": "3.5.2"
  }
 },
 "nbformat": 4,
 "nbformat_minor": 0
}
