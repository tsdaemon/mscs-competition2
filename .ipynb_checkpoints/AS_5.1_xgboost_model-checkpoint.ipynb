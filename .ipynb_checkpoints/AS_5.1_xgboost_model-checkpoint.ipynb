{
 "cells": [
  {
   "cell_type": "code",
   "execution_count": null,
   "metadata": {},
   "outputs": [],
   "source": [
    "import pandas as pd\n",
    "import xgboost as xgb\n",
    "import validation as v\n",
    "import model as m\n",
    "\n",
    "path_to_train = './data/train.csv'\n",
    "\n",
    "train = pd.read_csv(path_to_train, encoding='utf-8', usecols=['genre_id', 'user_id', 'context_type', 'ts_listen', 'release_date', 'platform_name', 'platform_family', 'media_duration', 'listen_type', 'user_gender', 'is_listened'])\n",
    "\n",
    "x_cols = ['genre_id', 'user_id', 'context_type', 'ts_listen', 'release_date', 'platform_name', 'platform_family', 'media_duration', 'listen_type', 'user_gender']\n",
    "y_col = 'is_listened'\n",
    "\n",
    "clf = xgb.XGBClassifier(max_depth=5, learning_rate=0.05, n_estimators=200, seed=42, eval_metric=\"auc\", objective=\"binary:logistic\")\n",
    "\n",
    "clf, auc = m.train_and_validate(train, x_cols, y_col, clf, v.split_train_validation_by_last_record)\n",
    "auc"
   ]
  },
  {
   "cell_type": "code",
   "execution_count": null,
   "metadata": {
    "collapsed": true
   },
   "outputs": [],
   "source": []
  }
 ],
 "metadata": {
  "anaconda-cloud": {},
  "kernelspec": {
   "display_name": "Python [conda env:xg]",
   "language": "python",
   "name": "conda-env-xg-py"
  },
  "language_info": {
   "codemirror_mode": {
    "name": "ipython",
    "version": 3
   },
   "file_extension": ".py",
   "mimetype": "text/x-python",
   "name": "python",
   "nbconvert_exporter": "python",
   "pygments_lexer": "ipython3",
   "version": "3.5.3"
  }
 },
 "nbformat": 4,
 "nbformat_minor": 2
}
