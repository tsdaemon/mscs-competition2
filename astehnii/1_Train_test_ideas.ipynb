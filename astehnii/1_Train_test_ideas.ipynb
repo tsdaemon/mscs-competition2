{
 "cells": [
  {
   "cell_type": "code",
   "execution_count": 1,
   "metadata": {
    "collapsed": true
   },
   "outputs": [],
   "source": [
    "import pandas as pd\n",
    "\n",
    "path_to_train = '../data/train.csv'\n",
    "path_to_test = '../data/test.csv'  "
   ]
  },
  {
   "cell_type": "markdown",
   "metadata": {},
   "source": [
    "Основна ідея - розбити трейн на трейн та валідацію так, щоб зберегти розподіл. Ключові моменти такі:\n",
    "1. В тесті є тільки користувачі, у яких є хоча б один попередній запис. Тому з теста треба видалити перший запис у всіх користувачів, щоб прибрати тих, у кого тільки один запис.\n",
    "2. Також видалити старі записи перших користувачів.\n",
    "3. В тесті ми маємо інший розподіл змінної `listen_type`, ніж в трейні. Буду пробувати два варіанти: тренуватися на всіх даних, або тільки на тих, де `listen_type==1`."
   ]
  },
  {
   "cell_type": "markdown",
   "metadata": {},
   "source": [
    "Треба взяти якісь фічі, котрі не сильно оверфітяться для цього датасету."
   ]
  },
  {
   "cell_type": "code",
   "execution_count": 2,
   "metadata": {
    "collapsed": true
   },
   "outputs": [],
   "source": [
    "# видалити останній запис кожного користувача\n",
    "# колонки для тренування\n",
    "\n",
    "cols = ['genre_id', 'context_type', 'platform_name', 'platform_family', 'media_duration',\n",
    "       'listen_type', 'user_gender', 'user_age']\n",
    "all_cols = cols + ['user_id', 'ts_listen', 'is_listened']\n",
    "train = pd.read_csv(path_to_train, encoding='utf-8', usecols=all_cols)"
   ]
  },
  {
   "cell_type": "code",
   "execution_count": 3,
   "metadata": {
    "collapsed": false
   },
   "outputs": [
    {
     "data": {
      "text/plain": [
       "<matplotlib.axes._subplots.AxesSubplot at 0x7f25f6f5c6a0>"
      ]
     },
     "execution_count": 3,
     "metadata": {},
     "output_type": "execute_result"
    },
    {
     "data": {
      "image/png": "[encoded data removed]",
      "text/plain": [
       "<matplotlib.figure.Figure at 0x7f25f725cb70>"
      ]
     },
     "metadata": {},
     "output_type": "display_data"
    }
   ],
   "source": [
    "import matplotlib.pyplot as plt\n",
    "%matplotlib inline\n",
    "train[train['ts_listen'] > 1475000000]['ts_listen'].hist(bins=30)"
   ]
  },
  {
   "cell_type": "code",
   "execution_count": 4,
   "metadata": {
    "collapsed": false
   },
   "outputs": [
    {
     "data": {
      "text/html": [
       "<div>\n",
       "<table border=\"1\" class=\"dataframe\">\n",
       "  <thead>\n",
       "    <tr style=\"text-align: right;\">\n",
       "      <th></th>\n",
       "      <th>genre_id</th>\n",
       "      <th>ts_listen</th>\n",
       "      <th>context_type</th>\n",
       "      <th>platform_name</th>\n",
       "      <th>platform_family</th>\n",
       "      <th>media_duration</th>\n",
       "      <th>listen_type</th>\n",
       "      <th>user_gender</th>\n",
       "      <th>user_id</th>\n",
       "      <th>user_age</th>\n",
       "      <th>is_listened</th>\n",
       "    </tr>\n",
       "  </thead>\n",
       "  <tbody>\n",
       "    <tr>\n",
       "      <th>2549309</th>\n",
       "      <td>0</td>\n",
       "      <td>1480199244</td>\n",
       "      <td>0</td>\n",
       "      <td>0</td>\n",
       "      <td>0</td>\n",
       "      <td>268</td>\n",
       "      <td>0</td>\n",
       "      <td>1</td>\n",
       "      <td>19913</td>\n",
       "      <td>23</td>\n",
       "      <td>1</td>\n",
       "    </tr>\n",
       "    <tr>\n",
       "      <th>2857394</th>\n",
       "      <td>0</td>\n",
       "      <td>1478202323</td>\n",
       "      <td>8</td>\n",
       "      <td>0</td>\n",
       "      <td>0</td>\n",
       "      <td>205</td>\n",
       "      <td>0</td>\n",
       "      <td>1</td>\n",
       "      <td>19914</td>\n",
       "      <td>18</td>\n",
       "      <td>1</td>\n",
       "    </tr>\n",
       "    <tr>\n",
       "      <th>4242361</th>\n",
       "      <td>1153</td>\n",
       "      <td>1477940225</td>\n",
       "      <td>1</td>\n",
       "      <td>1</td>\n",
       "      <td>0</td>\n",
       "      <td>299</td>\n",
       "      <td>1</td>\n",
       "      <td>1</td>\n",
       "      <td>19915</td>\n",
       "      <td>24</td>\n",
       "      <td>1</td>\n",
       "    </tr>\n",
       "    <tr>\n",
       "      <th>569368</th>\n",
       "      <td>0</td>\n",
       "      <td>1477512816</td>\n",
       "      <td>2</td>\n",
       "      <td>0</td>\n",
       "      <td>0</td>\n",
       "      <td>195</td>\n",
       "      <td>0</td>\n",
       "      <td>0</td>\n",
       "      <td>19916</td>\n",
       "      <td>25</td>\n",
       "      <td>1</td>\n",
       "    </tr>\n",
       "    <tr>\n",
       "      <th>4791398</th>\n",
       "      <td>25</td>\n",
       "      <td>1477926978</td>\n",
       "      <td>3</td>\n",
       "      <td>0</td>\n",
       "      <td>0</td>\n",
       "      <td>346</td>\n",
       "      <td>0</td>\n",
       "      <td>0</td>\n",
       "      <td>19917</td>\n",
       "      <td>29</td>\n",
       "      <td>1</td>\n",
       "    </tr>\n",
       "  </tbody>\n",
       "</table>\n",
       "</div>"
      ],
      "text/plain": [
       "         genre_id   ts_listen  context_type  platform_name  platform_family  \\\n",
       "2549309         0  1480199244             0              0                0   \n",
       "2857394         0  1478202323             8              0                0   \n",
       "4242361      1153  1477940225             1              1                0   \n",
       "569368          0  1477512816             2              0                0   \n",
       "4791398        25  1477926978             3              0                0   \n",
       "\n",
       "         media_duration  listen_type  user_gender  user_id  user_age  \\\n",
       "2549309             268            0            1    19913        23   \n",
       "2857394             205            0            1    19914        18   \n",
       "4242361             299            1            1    19915        24   \n",
       "569368              195            0            0    19916        25   \n",
       "4791398             346            0            0    19917        29   \n",
       "\n",
       "         is_listened  \n",
       "2549309            1  \n",
       "2857394            1  \n",
       "4242361            1  \n",
       "569368             1  \n",
       "4791398            1  "
      ]
     },
     "execution_count": 4,
     "metadata": {},
     "output_type": "execute_result"
    }
   ],
   "source": [
    "train = train.sort_values(by=['user_id', 'ts_listen'], axis=0)\n",
    "train.tail()"
   ]
  },
  {
   "cell_type": "code",
   "execution_count": 5,
   "metadata": {
    "collapsed": false
   },
   "outputs": [
    {
     "data": {
      "text/plain": [
       "19666    19666\n",
       "19667    19667\n",
       "19668    19668\n",
       "19669    19669\n",
       "19670    19670\n",
       "Name: user_id, dtype: int64"
      ]
     },
     "execution_count": 5,
     "metadata": {},
     "output_type": "execute_result"
    }
   ],
   "source": [
    "by_user_count = train.groupby('user_id', as_index=False).agg({'ts_listen':'count'})\n",
    "by_user_count['count'] = by_user_count['ts_listen']\n",
    "del by_user_count['ts_listen']\n",
    "\n",
    "records_for_validation = 1\n",
    "\n",
    "users_with_one_track = by_user_count[by_user_count['count']==records_for_validation]['user_id']\n",
    "users_with_one_track.head()"
   ]
  },
  {
   "cell_type": "code",
   "execution_count": 6,
   "metadata": {
    "collapsed": false
   },
   "outputs": [
    {
     "data": {
      "text/plain": [
       "7558834"
      ]
     },
     "execution_count": 6,
     "metadata": {},
     "output_type": "execute_result"
    }
   ],
   "source": [
    "len(train)"
   ]
  },
  {
   "cell_type": "code",
   "execution_count": 7,
   "metadata": {
    "collapsed": false
   },
   "outputs": [
    {
     "data": {
      "text/plain": [
       "7558582"
      ]
     },
     "execution_count": 7,
     "metadata": {},
     "output_type": "execute_result"
    }
   ],
   "source": [
    "train_wl = train[~train['user_id'].isin(users_with_one_track)]\n",
    "len(train_wl)"
   ]
  },
  {
   "cell_type": "code",
   "execution_count": 8,
   "metadata": {
    "collapsed": false
   },
   "outputs": [
    {
     "data": {
      "text/plain": [
       "6317"
      ]
     },
     "execution_count": 8,
     "metadata": {},
     "output_type": "execute_result"
    }
   ],
   "source": [
    "by_user_count_wl = train_wl.groupby('user_id').agg({'ts_listen':'count'})\n",
    "by_user_count_wl['ts_listen'].max()"
   ]
  },
  {
   "cell_type": "code",
   "execution_count": 9,
   "metadata": {
    "collapsed": false
   },
   "outputs": [
    {
     "data": {
      "text/plain": [
       "2"
      ]
     },
     "execution_count": 9,
     "metadata": {},
     "output_type": "execute_result"
    }
   ],
   "source": [
    "by_user_count_wl['ts_listen'].min()"
   ]
  },
  {
   "cell_type": "markdown",
   "metadata": {},
   "source": [
    "Для початку спробую брати всі записи, а не тільки з флоу."
   ]
  },
  {
   "cell_type": "code",
   "execution_count": 10,
   "metadata": {
    "collapsed": false
   },
   "outputs": [
    {
     "name": "stderr",
     "output_type": "stream",
     "text": [
      "/home/tsdaemon/anaconda3/lib/python3.6/site-packages/ipykernel/__main__.py:1: SettingWithCopyWarning: \n",
      "A value is trying to be set on a copy of a slice from a DataFrame.\n",
      "Try using .loc[row_indexer,col_indexer] = value instead\n",
      "\n",
      "See the caveats in the documentation: http://pandas.pydata.org/pandas-docs/stable/indexing.html#indexing-view-versus-copy\n",
      "  if __name__ == '__main__':\n"
     ]
    },
    {
     "data": {
      "text/plain": [
       "19666"
      ]
     },
     "execution_count": 10,
     "metadata": {},
     "output_type": "execute_result"
    }
   ],
   "source": [
    "train_wl['index'] = train_wl.index\n",
    "index_val = train_wl.groupby('user_id', as_index=False).tail(records_for_validation)['index']\n",
    "len(index_val)"
   ]
  },
  {
   "cell_type": "code",
   "execution_count": 11,
   "metadata": {
    "collapsed": false
   },
   "outputs": [
    {
     "data": {
      "text/plain": [
       "3615600"
      ]
     },
     "execution_count": 11,
     "metadata": {},
     "output_type": "execute_result"
    }
   ],
   "source": [
    "index_train = train_wl.loc[~train_wl.index.isin(index_val)].groupby('user_id', as_index=False).tail(300)['index']\n",
    "len(index_train)"
   ]
  },
  {
   "cell_type": "code",
   "execution_count": 12,
   "metadata": {
    "collapsed": false
   },
   "outputs": [
    {
     "data": {
      "text/html": [
       "<div>\n",
       "<table border=\"1\" class=\"dataframe\">\n",
       "  <thead>\n",
       "    <tr style=\"text-align: right;\">\n",
       "      <th></th>\n",
       "      <th>genre_id</th>\n",
       "      <th>ts_listen</th>\n",
       "      <th>context_type</th>\n",
       "      <th>platform_name</th>\n",
       "      <th>platform_family</th>\n",
       "      <th>media_duration</th>\n",
       "      <th>listen_type</th>\n",
       "      <th>user_gender</th>\n",
       "      <th>user_id</th>\n",
       "      <th>user_age</th>\n",
       "      <th>is_listened</th>\n",
       "    </tr>\n",
       "  </thead>\n",
       "  <tbody>\n",
       "    <tr>\n",
       "      <th>7558829</th>\n",
       "      <td>0</td>\n",
       "      <td>1480398097</td>\n",
       "      <td>23</td>\n",
       "      <td>1</td>\n",
       "      <td>0</td>\n",
       "      <td>268</td>\n",
       "      <td>1</td>\n",
       "      <td>0</td>\n",
       "      <td>2592</td>\n",
       "      <td>24</td>\n",
       "      <td>0</td>\n",
       "    </tr>\n",
       "    <tr>\n",
       "      <th>7558830</th>\n",
       "      <td>0</td>\n",
       "      <td>1479973465</td>\n",
       "      <td>2</td>\n",
       "      <td>0</td>\n",
       "      <td>0</td>\n",
       "      <td>974</td>\n",
       "      <td>0</td>\n",
       "      <td>0</td>\n",
       "      <td>9028</td>\n",
       "      <td>22</td>\n",
       "      <td>0</td>\n",
       "    </tr>\n",
       "    <tr>\n",
       "      <th>7558831</th>\n",
       "      <td>0</td>\n",
       "      <td>1479993377</td>\n",
       "      <td>4</td>\n",
       "      <td>0</td>\n",
       "      <td>2</td>\n",
       "      <td>175</td>\n",
       "      <td>1</td>\n",
       "      <td>0</td>\n",
       "      <td>393</td>\n",
       "      <td>26</td>\n",
       "      <td>0</td>\n",
       "    </tr>\n",
       "    <tr>\n",
       "      <th>7558832</th>\n",
       "      <td>0</td>\n",
       "      <td>1479936918</td>\n",
       "      <td>4</td>\n",
       "      <td>0</td>\n",
       "      <td>0</td>\n",
       "      <td>126</td>\n",
       "      <td>1</td>\n",
       "      <td>1</td>\n",
       "      <td>4507</td>\n",
       "      <td>29</td>\n",
       "      <td>1</td>\n",
       "    </tr>\n",
       "    <tr>\n",
       "      <th>7558833</th>\n",
       "      <td>0</td>\n",
       "      <td>1480029275</td>\n",
       "      <td>4</td>\n",
       "      <td>0</td>\n",
       "      <td>0</td>\n",
       "      <td>177</td>\n",
       "      <td>1</td>\n",
       "      <td>1</td>\n",
       "      <td>8129</td>\n",
       "      <td>30</td>\n",
       "      <td>1</td>\n",
       "    </tr>\n",
       "  </tbody>\n",
       "</table>\n",
       "</div>"
      ],
      "text/plain": [
       "         genre_id   ts_listen  context_type  platform_name  platform_family  \\\n",
       "7558829         0  1480398097            23              1                0   \n",
       "7558830         0  1479973465             2              0                0   \n",
       "7558831         0  1479993377             4              0                2   \n",
       "7558832         0  1479936918             4              0                0   \n",
       "7558833         0  1480029275             4              0                0   \n",
       "\n",
       "         media_duration  listen_type  user_gender  user_id  user_age  \\\n",
       "7558829             268            1            0     2592        24   \n",
       "7558830             974            0            0     9028        22   \n",
       "7558831             175            1            0      393        26   \n",
       "7558832             126            1            1     4507        29   \n",
       "7558833             177            1            1     8129        30   \n",
       "\n",
       "         is_listened  \n",
       "7558829            0  \n",
       "7558830            0  \n",
       "7558831            0  \n",
       "7558832            1  \n",
       "7558833            1  "
      ]
     },
     "execution_count": 12,
     "metadata": {},
     "output_type": "execute_result"
    }
   ],
   "source": [
    "train_wl = train_wl.sort_index()\n",
    "del train_wl['index']\n",
    "train_wl.tail()"
   ]
  },
  {
   "cell_type": "code",
   "execution_count": 13,
   "metadata": {
    "collapsed": false
   },
   "outputs": [
    {
     "data": {
      "text/plain": [
       "19666"
      ]
     },
     "execution_count": 13,
     "metadata": {},
     "output_type": "execute_result"
    }
   ],
   "source": [
    "test_x = train_wl.loc[index_val][cols]\n",
    "test_y = train_wl.loc[index_val][\"is_listened\"]\n",
    "\n",
    "train_x = train_wl.loc[index_train][cols]\n",
    "train_y = train_wl.loc[index_train][\"is_listened\"]\n",
    "len(test_x)"
   ]
  },
  {
   "cell_type": "code",
   "execution_count": 14,
   "metadata": {
    "collapsed": false
   },
   "outputs": [
    {
     "name": "stdout",
     "output_type": "stream",
     "text": [
      "[1]\ttraining's auc: 0.616953\tvalid_1's auc: 0.493059\n",
      "[2]\ttraining's auc: 0.629735\tvalid_1's auc: 0.489295\n",
      "[3]\ttraining's auc: 0.628627\tvalid_1's auc: 0.489516\n",
      "[4]\ttraining's auc: 0.628743\tvalid_1's auc: 0.488015\n",
      "[5]\ttraining's auc: 0.630985\tvalid_1's auc: 0.48864\n",
      "[6]\ttraining's auc: 0.631758\tvalid_1's auc: 0.491281\n",
      "[7]\ttraining's auc: 0.631686\tvalid_1's auc: 0.490873\n",
      "[8]\ttraining's auc: 0.631778\tvalid_1's auc: 0.492048\n",
      "[9]\ttraining's auc: 0.631623\tvalid_1's auc: 0.492015\n",
      "[10]\ttraining's auc: 0.631697\tvalid_1's auc: 0.493354\n",
      "[11]\ttraining's auc: 0.631941\tvalid_1's auc: 0.492126\n",
      "[12]\ttraining's auc: 0.632141\tvalid_1's auc: 0.492999\n",
      "[13]\ttraining's auc: 0.631945\tvalid_1's auc: 0.490899\n",
      "[14]\ttraining's auc: 0.632459\tvalid_1's auc: 0.491569\n",
      "[15]\ttraining's auc: 0.632602\tvalid_1's auc: 0.492522\n",
      "[16]\ttraining's auc: 0.632564\tvalid_1's auc: 0.491858\n",
      "[17]\ttraining's auc: 0.632829\tvalid_1's auc: 0.492083\n",
      "[18]\ttraining's auc: 0.632852\tvalid_1's auc: 0.492042\n",
      "[19]\ttraining's auc: 0.633032\tvalid_1's auc: 0.491379\n",
      "[20]\ttraining's auc: 0.633235\tvalid_1's auc: 0.4916\n",
      "[21]\ttraining's auc: 0.633601\tvalid_1's auc: 0.491901\n",
      "[22]\ttraining's auc: 0.633786\tvalid_1's auc: 0.492499\n",
      "[23]\ttraining's auc: 0.634173\tvalid_1's auc: 0.493002\n",
      "[24]\ttraining's auc: 0.634274\tvalid_1's auc: 0.492648\n",
      "[25]\ttraining's auc: 0.634564\tvalid_1's auc: 0.493018\n",
      "[26]\ttraining's auc: 0.63471\tvalid_1's auc: 0.493052\n",
      "[27]\ttraining's auc: 0.634733\tvalid_1's auc: 0.493422\n",
      "[28]\ttraining's auc: 0.634911\tvalid_1's auc: 0.493499\n",
      "[29]\ttraining's auc: 0.635098\tvalid_1's auc: 0.493701\n",
      "[30]\ttraining's auc: 0.635261\tvalid_1's auc: 0.494145\n",
      "[31]\ttraining's auc: 0.635537\tvalid_1's auc: 0.494378\n",
      "[32]\ttraining's auc: 0.635597\tvalid_1's auc: 0.494632\n",
      "[33]\ttraining's auc: 0.635848\tvalid_1's auc: 0.494858\n",
      "[34]\ttraining's auc: 0.635935\tvalid_1's auc: 0.495202\n",
      "[35]\ttraining's auc: 0.636032\tvalid_1's auc: 0.495412\n",
      "[36]\ttraining's auc: 0.636096\tvalid_1's auc: 0.495384\n",
      "[37]\ttraining's auc: 0.636409\tvalid_1's auc: 0.495738\n",
      "[38]\ttraining's auc: 0.63665\tvalid_1's auc: 0.495809\n",
      "[39]\ttraining's auc: 0.636761\tvalid_1's auc: 0.496078\n",
      "[40]\ttraining's auc: 0.63686\tvalid_1's auc: 0.496448\n",
      "[41]\ttraining's auc: 0.636987\tvalid_1's auc: 0.496584\n",
      "[42]\ttraining's auc: 0.637153\tvalid_1's auc: 0.496818\n",
      "[43]\ttraining's auc: 0.637249\tvalid_1's auc: 0.497024\n",
      "[44]\ttraining's auc: 0.637354\tvalid_1's auc: 0.497286\n",
      "[45]\ttraining's auc: 0.637544\tvalid_1's auc: 0.49744\n",
      "[46]\ttraining's auc: 0.637827\tvalid_1's auc: 0.49773\n",
      "[47]\ttraining's auc: 0.638071\tvalid_1's auc: 0.497962\n",
      "[48]\ttraining's auc: 0.638197\tvalid_1's auc: 0.498311\n",
      "[49]\ttraining's auc: 0.638403\tvalid_1's auc: 0.498492\n",
      "[50]\ttraining's auc: 0.638462\tvalid_1's auc: 0.498745\n",
      "[51]\ttraining's auc: 0.638543\tvalid_1's auc: 0.498812\n",
      "[52]\ttraining's auc: 0.638612\tvalid_1's auc: 0.499074\n",
      "[53]\ttraining's auc: 0.638699\tvalid_1's auc: 0.499367\n",
      "[54]\ttraining's auc: 0.638832\tvalid_1's auc: 0.499445\n",
      "[55]\ttraining's auc: 0.639013\tvalid_1's auc: 0.499577\n",
      "[56]\ttraining's auc: 0.639102\tvalid_1's auc: 0.499846\n",
      "[57]\ttraining's auc: 0.639226\tvalid_1's auc: 0.49996\n",
      "[58]\ttraining's auc: 0.63931\tvalid_1's auc: 0.500281\n",
      "[59]\ttraining's auc: 0.639444\tvalid_1's auc: 0.500398\n",
      "[60]\ttraining's auc: 0.639508\tvalid_1's auc: 0.500497\n",
      "[61]\ttraining's auc: 0.639584\tvalid_1's auc: 0.500659\n",
      "[62]\ttraining's auc: 0.639603\tvalid_1's auc: 0.500765\n",
      "[63]\ttraining's auc: 0.639643\tvalid_1's auc: 0.500889\n",
      "[64]\ttraining's auc: 0.639703\tvalid_1's auc: 0.500962\n",
      "[65]\ttraining's auc: 0.639811\tvalid_1's auc: 0.501071\n",
      "[66]\ttraining's auc: 0.639862\tvalid_1's auc: 0.501162\n",
      "[67]\ttraining's auc: 0.639921\tvalid_1's auc: 0.501289\n",
      "[68]\ttraining's auc: 0.64\tvalid_1's auc: 0.501311\n",
      "[69]\ttraining's auc: 0.640102\tvalid_1's auc: 0.501444\n",
      "[70]\ttraining's auc: 0.640124\tvalid_1's auc: 0.501539\n",
      "[71]\ttraining's auc: 0.640187\tvalid_1's auc: 0.501687\n",
      "[72]\ttraining's auc: 0.64025\tvalid_1's auc: 0.501832\n",
      "[73]\ttraining's auc: 0.640269\tvalid_1's auc: 0.501914\n",
      "[74]\ttraining's auc: 0.640332\tvalid_1's auc: 0.501895\n",
      "[75]\ttraining's auc: 0.640392\tvalid_1's auc: 0.502136\n",
      "[76]\ttraining's auc: 0.640463\tvalid_1's auc: 0.502163\n",
      "[77]\ttraining's auc: 0.640524\tvalid_1's auc: 0.502216\n",
      "[78]\ttraining's auc: 0.640585\tvalid_1's auc: 0.502209\n",
      "[79]\ttraining's auc: 0.640597\tvalid_1's auc: 0.502301\n",
      "[80]\ttraining's auc: 0.640679\tvalid_1's auc: 0.50235\n",
      "[81]\ttraining's auc: 0.640767\tvalid_1's auc: 0.50238\n",
      "[82]\ttraining's auc: 0.640807\tvalid_1's auc: 0.502446\n",
      "[83]\ttraining's auc: 0.640858\tvalid_1's auc: 0.502474\n",
      "[84]\ttraining's auc: 0.640932\tvalid_1's auc: 0.502544\n",
      "[85]\ttraining's auc: 0.641014\tvalid_1's auc: 0.502596\n",
      "[86]\ttraining's auc: 0.641057\tvalid_1's auc: 0.502587\n",
      "[87]\ttraining's auc: 0.64107\tvalid_1's auc: 0.502611\n",
      "[88]\ttraining's auc: 0.641096\tvalid_1's auc: 0.502692\n",
      "[89]\ttraining's auc: 0.641153\tvalid_1's auc: 0.50273\n",
      "[90]\ttraining's auc: 0.641181\tvalid_1's auc: 0.502772\n",
      "[91]\ttraining's auc: 0.641272\tvalid_1's auc: 0.502807\n",
      "[92]\ttraining's auc: 0.641293\tvalid_1's auc: 0.502846\n",
      "[93]\ttraining's auc: 0.641349\tvalid_1's auc: 0.502878\n",
      "[94]\ttraining's auc: 0.641508\tvalid_1's auc: 0.502963\n",
      "[95]\ttraining's auc: 0.641547\tvalid_1's auc: 0.503048\n",
      "[96]\ttraining's auc: 0.641604\tvalid_1's auc: 0.503047\n",
      "[97]\ttraining's auc: 0.641639\tvalid_1's auc: 0.503065\n",
      "[98]\ttraining's auc: 0.641717\tvalid_1's auc: 0.503024\n",
      "[99]\ttraining's auc: 0.641774\tvalid_1's auc: 0.503038\n",
      "[100]\ttraining's auc: 0.641792\tvalid_1's auc: 0.503048\n",
      "[101]\ttraining's auc: 0.641807\tvalid_1's auc: 0.503065\n",
      "[102]\ttraining's auc: 0.641848\tvalid_1's auc: 0.503136\n",
      "[103]\ttraining's auc: 0.641887\tvalid_1's auc: 0.503178\n",
      "[104]\ttraining's auc: 0.64193\tvalid_1's auc: 0.503241\n",
      "[105]\ttraining's auc: 0.641972\tvalid_1's auc: 0.503297\n",
      "[106]\ttraining's auc: 0.641989\tvalid_1's auc: 0.503305\n",
      "[107]\ttraining's auc: 0.642032\tvalid_1's auc: 0.503377\n",
      "[108]\ttraining's auc: 0.642074\tvalid_1's auc: 0.503513\n",
      "[109]\ttraining's auc: 0.642115\tvalid_1's auc: 0.503539\n",
      "[110]\ttraining's auc: 0.642128\tvalid_1's auc: 0.503583\n",
      "[111]\ttraining's auc: 0.642145\tvalid_1's auc: 0.503611\n",
      "[112]\ttraining's auc: 0.642204\tvalid_1's auc: 0.503631\n",
      "[113]\ttraining's auc: 0.642292\tvalid_1's auc: 0.503725\n",
      "[114]\ttraining's auc: 0.642312\tvalid_1's auc: 0.503786\n",
      "[115]\ttraining's auc: 0.642331\tvalid_1's auc: 0.503807\n",
      "[116]\ttraining's auc: 0.642373\tvalid_1's auc: 0.503887\n",
      "[117]\ttraining's auc: 0.642419\tvalid_1's auc: 0.503892\n",
      "[118]\ttraining's auc: 0.642458\tvalid_1's auc: 0.503968\n",
      "[119]\ttraining's auc: 0.642507\tvalid_1's auc: 0.504141\n",
      "[120]\ttraining's auc: 0.642539\tvalid_1's auc: 0.504221\n",
      "[121]\ttraining's auc: 0.642549\tvalid_1's auc: 0.504242\n",
      "[122]\ttraining's auc: 0.642583\tvalid_1's auc: 0.50429\n",
      "[123]\ttraining's auc: 0.642637\tvalid_1's auc: 0.504342\n",
      "[124]\ttraining's auc: 0.6427\tvalid_1's auc: 0.504359\n",
      "[125]\ttraining's auc: 0.642708\tvalid_1's auc: 0.504384\n",
      "[126]\ttraining's auc: 0.642735\tvalid_1's auc: 0.504469\n",
      "[127]\ttraining's auc: 0.642784\tvalid_1's auc: 0.5046\n",
      "[128]\ttraining's auc: 0.642826\tvalid_1's auc: 0.504596\n",
      "[129]\ttraining's auc: 0.642855\tvalid_1's auc: 0.504652\n",
      "[130]\ttraining's auc: 0.642893\tvalid_1's auc: 0.504627\n",
      "[131]\ttraining's auc: 0.642929\tvalid_1's auc: 0.504671\n",
      "[132]\ttraining's auc: 0.642963\tvalid_1's auc: 0.504701\n",
      "[133]\ttraining's auc: 0.642997\tvalid_1's auc: 0.504664\n",
      "[134]\ttraining's auc: 0.643016\tvalid_1's auc: 0.504659\n",
      "[135]\ttraining's auc: 0.643051\tvalid_1's auc: 0.504649\n",
      "[136]\ttraining's auc: 0.643095\tvalid_1's auc: 0.504723\n",
      "[137]\ttraining's auc: 0.643139\tvalid_1's auc: 0.504727\n",
      "[138]\ttraining's auc: 0.643163\tvalid_1's auc: 0.504776\n",
      "[139]\ttraining's auc: 0.643183\tvalid_1's auc: 0.504825\n",
      "[140]\ttraining's auc: 0.643195\tvalid_1's auc: 0.504852\n",
      "[141]\ttraining's auc: 0.643247\tvalid_1's auc: 0.504882\n",
      "[142]\ttraining's auc: 0.643283\tvalid_1's auc: 0.504886\n",
      "[143]\ttraining's auc: 0.643328\tvalid_1's auc: 0.504872\n",
      "[144]\ttraining's auc: 0.643382\tvalid_1's auc: 0.504973\n",
      "[145]\ttraining's auc: 0.643422\tvalid_1's auc: 0.505006\n",
      "[146]\ttraining's auc: 0.643447\tvalid_1's auc: 0.505021\n",
      "[147]\ttraining's auc: 0.64346\tvalid_1's auc: 0.505062\n",
      "[148]\ttraining's auc: 0.643475\tvalid_1's auc: 0.505086\n",
      "[149]\ttraining's auc: 0.643488\tvalid_1's auc: 0.505103\n",
      "[150]\ttraining's auc: 0.643523\tvalid_1's auc: 0.505063\n",
      "[151]\ttraining's auc: 0.643537\tvalid_1's auc: 0.505136\n",
      "[152]\ttraining's auc: 0.643559\tvalid_1's auc: 0.505142\n",
      "[153]\ttraining's auc: 0.643615\tvalid_1's auc: 0.505208\n",
      "[154]\ttraining's auc: 0.643646\tvalid_1's auc: 0.505237\n",
      "[155]\ttraining's auc: 0.643678\tvalid_1's auc: 0.505291\n",
      "[156]\ttraining's auc: 0.643691\tvalid_1's auc: 0.505296\n",
      "[157]\ttraining's auc: 0.643706\tvalid_1's auc: 0.505349\n",
      "[158]\ttraining's auc: 0.643747\tvalid_1's auc: 0.50533\n",
      "[159]\ttraining's auc: 0.643785\tvalid_1's auc: 0.505366\n",
      "[160]\ttraining's auc: 0.643792\tvalid_1's auc: 0.505464\n",
      "[161]\ttraining's auc: 0.643806\tvalid_1's auc: 0.505484\n",
      "[162]\ttraining's auc: 0.643838\tvalid_1's auc: 0.505528\n",
      "[163]\ttraining's auc: 0.643848\tvalid_1's auc: 0.505543\n",
      "[164]\ttraining's auc: 0.643874\tvalid_1's auc: 0.505559\n",
      "[165]\ttraining's auc: 0.64391\tvalid_1's auc: 0.505663\n",
      "[166]\ttraining's auc: 0.643919\tvalid_1's auc: 0.505655\n",
      "[167]\ttraining's auc: 0.64393\tvalid_1's auc: 0.505687\n",
      "[168]\ttraining's auc: 0.643956\tvalid_1's auc: 0.505726\n",
      "[169]\ttraining's auc: 0.643968\tvalid_1's auc: 0.505735\n",
      "[170]\ttraining's auc: 0.643991\tvalid_1's auc: 0.505718\n",
      "[171]\ttraining's auc: 0.644021\tvalid_1's auc: 0.505719\n",
      "[172]\ttraining's auc: 0.644066\tvalid_1's auc: 0.505751\n",
      "[173]\ttraining's auc: 0.644074\tvalid_1's auc: 0.505759\n",
      "[174]\ttraining's auc: 0.644094\tvalid_1's auc: 0.505766\n",
      "[175]\ttraining's auc: 0.644126\tvalid_1's auc: 0.505765\n",
      "[176]\ttraining's auc: 0.644135\tvalid_1's auc: 0.505754\n",
      "[177]\ttraining's auc: 0.64417\tvalid_1's auc: 0.50572\n",
      "[178]\ttraining's auc: 0.644193\tvalid_1's auc: 0.505717\n",
      "[179]\ttraining's auc: 0.6442\tvalid_1's auc: 0.505725\n",
      "[180]\ttraining's auc: 0.644201\tvalid_1's auc: 0.505724\n",
      "[181]\ttraining's auc: 0.644237\tvalid_1's auc: 0.505737\n",
      "[182]\ttraining's auc: 0.64426\tvalid_1's auc: 0.505763\n",
      "[183]\ttraining's auc: 0.644282\tvalid_1's auc: 0.505798\n",
      "[184]\ttraining's auc: 0.644322\tvalid_1's auc: 0.505822\n",
      "[185]\ttraining's auc: 0.644355\tvalid_1's auc: 0.505863\n",
      "[186]\ttraining's auc: 0.644376\tvalid_1's auc: 0.505908\n",
      "[187]\ttraining's auc: 0.644387\tvalid_1's auc: 0.50597\n",
      "[188]\ttraining's auc: 0.6444\tvalid_1's auc: 0.505975\n",
      "[189]\ttraining's auc: 0.644411\tvalid_1's auc: 0.505984\n",
      "[190]\ttraining's auc: 0.644438\tvalid_1's auc: 0.506036\n",
      "[191]\ttraining's auc: 0.644463\tvalid_1's auc: 0.506034\n",
      "[192]\ttraining's auc: 0.644467\tvalid_1's auc: 0.506033\n",
      "[193]\ttraining's auc: 0.64448\tvalid_1's auc: 0.506045\n",
      "[194]\ttraining's auc: 0.644491\tvalid_1's auc: 0.506071\n",
      "[195]\ttraining's auc: 0.644495\tvalid_1's auc: 0.506081\n",
      "[196]\ttraining's auc: 0.644513\tvalid_1's auc: 0.506092\n",
      "[197]\ttraining's auc: 0.64454\tvalid_1's auc: 0.506148\n",
      "[198]\ttraining's auc: 0.644545\tvalid_1's auc: 0.50615\n",
      "[199]\ttraining's auc: 0.644607\tvalid_1's auc: 0.50619\n",
      "[200]\ttraining's auc: 0.644636\tvalid_1's auc: 0.506291\n"
     ]
    }
   ],
   "source": [
    "import lightgbm as lgb\n",
    "\n",
    "lgb_train = lgb.Dataset(train_x, train_y)\n",
    "lgb_test = lgb.Dataset(test_x, test_y)\n",
    "\n",
    "params = {\n",
    "    'application':'binary',\n",
    "    'num_leaves': 31,\n",
    "    'max_depth': 20,\n",
    "    'feature_fraction': 0.7,\n",
    "    'bagging_fraction': 0.7,\n",
    "    'max_bin': 200,\n",
    "    'metric': 'auc',\n",
    "    'verbose': 1\n",
    "}\n",
    "\n",
    "params = {\n",
    "    'application':'binary',\n",
    "    'num_leaves': 16,\n",
    "    'max_depth': 10,\n",
    "    'bagging_fraction': 0.7,\n",
    "    'feature_fraction': 0.7,\n",
    "    'max_bin': 20,\n",
    "    'metric': 'auc',\n",
    "    'verbose': 1\n",
    "}\n",
    "\n",
    "validation = [lgb_train,lgb_test]\n",
    "model_lgm = lgb.train(params, lgb_train, 200, valid_sets=validation, verbose_eval=1)"
   ]
  },
  {
   "cell_type": "code",
   "execution_count": null,
   "metadata": {
    "collapsed": true
   },
   "outputs": [],
   "source": [
    "importance = model_lgm.feature_importance()"
   ]
  }
 ],
 "metadata": {
  "kernelspec": {
   "display_name": "Python 3",
   "language": "python",
   "name": "python3"
  },
  "language_info": {
   "codemirror_mode": {
    "name": "ipython",
    "version": 3
   },
   "file_extension": ".py",
   "mimetype": "text/x-python",
   "name": "python",
   "nbconvert_exporter": "python",
   "pygments_lexer": "ipython3",
   "version": "3.6.0"
  }
 },
 "nbformat": 4,
 "nbformat_minor": 2
}
