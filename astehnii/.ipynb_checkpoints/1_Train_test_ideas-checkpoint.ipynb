{
 "cells": [
  {
   "cell_type": "code",
   "execution_count": 1,
   "metadata": {
    "collapsed": true
   },
   "outputs": [],
   "source": [
    "import pandas as pd\n",
    "\n",
    "path_to_train = '../data/train.csv'\n",
    "path_to_test = '../data/test.csv'"
   ]
  },
  {
   "cell_type": "markdown",
   "metadata": {},
   "source": [
    "Основна ідея - розбити трейн на трейн та валідацію так, щоб зберегти розподіл. Ключові моменти такі:\n",
    "1. В тесті є тільки користувачі, у яких є хоча б один попередній запис. Тому з теста треба видалити перший запис у всіх користувачів, щоб прибрати тих, у кого тільки один запис.\n",
    "2. Також видалити старі записи перших користувачів.\n",
    "3. В тесті ми маємо інший розподіл змінної `listen_type`, ніж в трейні. Буду пробувати два варіанти: тренуватися на всіх даних, або тільки на тих, де `listen_type==1`."
   ]
  },
  {
   "cell_type": "markdown",
   "metadata": {},
   "source": [
    "Треба взяти якісь фічі, котрі не сильно оверфітяться для цього датасету."
   ]
  },
  {
   "cell_type": "code",
   "execution_count": 2,
   "metadata": {
    "collapsed": true
   },
   "outputs": [],
   "source": [
    "# видалити останній запис кожного користувача\n",
    "# колонки для тренування\n",
    "\n",
    "cols = ['genre_id', 'context_type', 'platform_name', 'platform_family', 'media_duration',\n",
    "       'listen_type', 'user_gender', 'user_age']\n",
    "all_cols = cols + ['user_id', 'ts_listen', 'is_listened']\n",
    "train = pd.read_csv(path_to_train, encoding='utf-8', usecols=all_cols)"
   ]
  },
  {
   "cell_type": "code",
   "execution_count": null,
   "metadata": {
    "collapsed": false
   },
   "outputs": [
    {
     "data": {
      "text/plain": [
       "<matplotlib.axes._subplots.AxesSubplot at 0x7f25f6f5c6a0>"
      ]
     },
     "execution_count": 3,
     "metadata": {},
     "output_type": "execute_result"
    },
    {
     "data": {
      "image/png": "[encoded data removed]",
      "text/plain": [
       "<matplotlib.figure.Figure at 0x7f25f725cb70>"
      ]
     },
     "metadata": {},
     "output_type": "display_data"
    }
   ],
   "source": [
    "import matplotlib.pyplot as plt\n",
    "%matplotlib inline\n",
    "train[train['ts_listen'] > 1475000000]['ts_listen'].hist(bins=30)"
   ]
  },
  {
   "cell_type": "code",
   "execution_count": null,
   "metadata": {
    "collapsed": false
   },
   "outputs": [],
   "source": [
    "train = train.sort_values(by=['user_id', 'ts_listen'], axis=0)\n",
    "train.tail()"
   ]
  },
  {
   "cell_type": "code",
   "execution_count": null,
   "metadata": {
    "collapsed": false
   },
   "outputs": [],
   "source": [
    "by_user_count = train.groupby('user_id', as_index=False).agg({'ts_listen':'count'})\n",
    "by_user_count['count'] = by_user_count['ts_listen']\n",
    "del by_user_count['ts_listen']\n",
    "\n",
    "records_for_validation = 1\n",
    "\n",
    "users_with_one_track = by_user_count[by_user_count['count']==records_for_validation]['user_id']\n",
    "users_with_one_track.head()"
   ]
  },
  {
   "cell_type": "code",
   "execution_count": null,
   "metadata": {
    "collapsed": false
   },
   "outputs": [],
   "source": [
    "len(train)"
   ]
  },
  {
   "cell_type": "code",
   "execution_count": null,
   "metadata": {
    "collapsed": false
   },
   "outputs": [],
   "source": [
    "train_wl = train[~train['user_id'].isin(users_with_one_track)]\n",
    "len(train_wl)"
   ]
  },
  {
   "cell_type": "code",
   "execution_count": null,
   "metadata": {
    "collapsed": false
   },
   "outputs": [],
   "source": [
    "by_user_count_wl = train_wl.groupby('user_id').agg({'ts_listen':'count'})\n",
    "by_user_count_wl['ts_listen'].max()"
   ]
  },
  {
   "cell_type": "code",
   "execution_count": null,
   "metadata": {
    "collapsed": false
   },
   "outputs": [],
   "source": [
    "by_user_count_wl['ts_listen'].min()"
   ]
  },
  {
   "cell_type": "markdown",
   "metadata": {},
   "source": [
    "Для початку спробую брати всі записи, а не тільки з флоу."
   ]
  },
  {
   "cell_type": "code",
   "execution_count": null,
   "metadata": {
    "collapsed": false
   },
   "outputs": [],
   "source": [
    "train_wl['index'] = train_wl.index\n",
    "index_val = train_wl.groupby('user_id', as_index=False).tail(records_for_validation)['index']\n",
    "len(index_val)"
   ]
  },
  {
   "cell_type": "code",
   "execution_count": null,
   "metadata": {
    "collapsed": false
   },
   "outputs": [],
   "source": [
    "index_train = train_wl.loc[~train_wl.index.isin(index_val)].groupby('user_id', as_index=False).tail(300)['index']\n",
    "len(index_train)"
   ]
  },
  {
   "cell_type": "code",
   "execution_count": null,
   "metadata": {
    "collapsed": false
   },
   "outputs": [],
   "source": [
    "train_wl = train_wl.sort_index()\n",
    "del train_wl['index']\n",
    "train_wl.tail()"
   ]
  },
  {
   "cell_type": "code",
   "execution_count": null,
   "metadata": {
    "collapsed": false
   },
   "outputs": [],
   "source": [
    "test_x = train_wl.loc[index_val][cols]\n",
    "test_y = train_wl.loc[index_val][\"is_listened\"]\n",
    "\n",
    "train_x = train_wl.loc[index_train][cols]\n",
    "train_y = train_wl.loc[index_train][\"is_listened\"]\n",
    "len(test_x)"
   ]
  },
  {
   "cell_type": "code",
   "execution_count": null,
   "metadata": {
    "collapsed": false
   },
   "outputs": [],
   "source": [
    "import lightgbm as lgb\n",
    "\n",
    "lgb_train = lgb.Dataset(train_x, train_y)\n",
    "lgb_test = lgb.Dataset(test_x, test_y)\n",
    "\n",
    "params = {\n",
    "    'application':'binary',\n",
    "    'num_leaves': 31,\n",
    "    'max_depth': 20,\n",
    "    'feature_fraction': 0.7,\n",
    "    'bagging_fraction': 0.7,\n",
    "    'max_bin': 200,\n",
    "    'metric': 'auc',\n",
    "    'verbose': 1\n",
    "}\n",
    "\n",
    "params = {\n",
    "    'application':'binary',\n",
    "    'num_leaves': 16,\n",
    "    'max_depth': 10,\n",
    "    'bagging_fraction': 0.7,\n",
    "    'feature_fraction': 0.7,\n",
    "    'max_bin': 20,\n",
    "    'metric': 'auc',\n",
    "    'verbose': 1\n",
    "}\n",
    "\n",
    "validation = [lgb_train,lgb_test]\n",
    "model_lgm = lgb.train(params, lgb_train, 200, valid_sets=validation, verbose_eval=1)"
   ]
  },
  {
   "cell_type": "code",
   "execution_count": null,
   "metadata": {
    "collapsed": true
   },
   "outputs": [],
   "source": [
    "importance = model_lgm.feature_importance()"
   ]
  }
 ],
 "metadata": {
  "kernelspec": {
   "display_name": "Python 3",
   "language": "python",
   "name": "python3"
  },
  "language_info": {
   "codemirror_mode": {
    "name": "ipython",
    "version": 3
   },
   "file_extension": ".py",
   "mimetype": "text/x-python",
   "name": "python",
   "nbconvert_exporter": "python",
   "pygments_lexer": "ipython3",
   "version": "3.6.0"
  }
 },
 "nbformat": 4,
 "nbformat_minor": 2
}
